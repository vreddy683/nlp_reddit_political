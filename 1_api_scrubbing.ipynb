{
 "cells": [
  {
   "cell_type": "code",
   "execution_count": 4,
   "id": "01eeb18c-baec-48ba-b890-8db1e72c0dbc",
   "metadata": {},
   "outputs": [],
   "source": [
    "import requests\n",
    "import calendar\n",
    "import time\n",
    "import pandas as pd"
   ]
  },
  {
   "cell_type": "code",
   "execution_count": null,
   "id": "02fc7ee2-0e4d-450a-bf89-272e0eed477d",
   "metadata": {},
   "outputs": [],
   "source": []
  },
  {
   "cell_type": "code",
   "execution_count": 5,
   "id": "b94cfb06-d6a0-47b4-a3d5-3f043c26d62b",
   "metadata": {},
   "outputs": [],
   "source": [
    "url = 'https://api.pushshift.io/reddit/search/submission'\n",
    "params = {\n",
    "    'subreddit': 'Republican',\n",
    "    'limit': 1000,\n",
    "    'filter': 'subreddit, selftext, title, created_utc',\n",
    "    'until': 1673298470 \n",
    "}"
   ]
  },
  {
   "cell_type": "code",
   "execution_count": 6,
   "id": "acff91da-d7c4-4409-b237-1e00e9c014a9",
   "metadata": {},
   "outputs": [
    {
     "data": {
      "text/plain": [
       "200"
      ]
     },
     "execution_count": 6,
     "metadata": {},
     "output_type": "execute_result"
    }
   ],
   "source": [
    "res = requests.get(url, params)\n",
    "res.status_code"
   ]
  },
  {
   "cell_type": "code",
   "execution_count": 7,
   "id": "2b2ab39c-ca57-49a9-bd52-a7d7faa23a11",
   "metadata": {},
   "outputs": [
    {
     "data": {
      "text/html": [
       "<div>\n",
       "<style scoped>\n",
       "    .dataframe tbody tr th:only-of-type {\n",
       "        vertical-align: middle;\n",
       "    }\n",
       "\n",
       "    .dataframe tbody tr th {\n",
       "        vertical-align: top;\n",
       "    }\n",
       "\n",
       "    .dataframe thead th {\n",
       "        text-align: right;\n",
       "    }\n",
       "</style>\n",
       "<table border=\"1\" class=\"dataframe\">\n",
       "  <thead>\n",
       "    <tr style=\"text-align: right;\">\n",
       "      <th></th>\n",
       "      <th>subreddit</th>\n",
       "      <th>selftext</th>\n",
       "      <th>title</th>\n",
       "      <th>created_utc</th>\n",
       "    </tr>\n",
       "  </thead>\n",
       "  <tbody>\n",
       "    <tr>\n",
       "      <th>995</th>\n",
       "      <td>Republican</td>\n",
       "      <td>[removed]</td>\n",
       "      <td>A rant</td>\n",
       "      <td>1670820453</td>\n",
       "    </tr>\n",
       "    <tr>\n",
       "      <th>996</th>\n",
       "      <td>Republican</td>\n",
       "      <td></td>\n",
       "      <td>Elon Musk Drops Hammer: “My pronouns are Prose...</td>\n",
       "      <td>1670807712</td>\n",
       "    </tr>\n",
       "    <tr>\n",
       "      <th>997</th>\n",
       "      <td>Republican</td>\n",
       "      <td></td>\n",
       "      <td>Elon Musk Posts Call for Fauci’s Prosecution</td>\n",
       "      <td>1670806395</td>\n",
       "    </tr>\n",
       "    <tr>\n",
       "      <th>998</th>\n",
       "      <td>Republican</td>\n",
       "      <td></td>\n",
       "      <td>Adam Schiff is in full blown panic mode. He se...</td>\n",
       "      <td>1670802998</td>\n",
       "    </tr>\n",
       "    <tr>\n",
       "      <th>999</th>\n",
       "      <td>Republican</td>\n",
       "      <td></td>\n",
       "      <td>Hunter Biden May Sue Fox News, Rudy Giuliani, ...</td>\n",
       "      <td>1670802742</td>\n",
       "    </tr>\n",
       "  </tbody>\n",
       "</table>\n",
       "</div>"
      ],
      "text/plain": [
       "      subreddit   selftext                                              title  \\\n",
       "995  Republican  [removed]                                             A rant   \n",
       "996  Republican             Elon Musk Drops Hammer: “My pronouns are Prose...   \n",
       "997  Republican                  Elon Musk Posts Call for Fauci’s Prosecution   \n",
       "998  Republican             Adam Schiff is in full blown panic mode. He se...   \n",
       "999  Republican             Hunter Biden May Sue Fox News, Rudy Giuliani, ...   \n",
       "\n",
       "     created_utc  \n",
       "995   1670820453  \n",
       "996   1670807712  \n",
       "997   1670806395  \n",
       "998   1670802998  \n",
       "999   1670802742  "
      ]
     },
     "execution_count": 7,
     "metadata": {},
     "output_type": "execute_result"
    }
   ],
   "source": [
    "df_gop = pd.DataFrame(res.json()['data'])\n",
    "df_gop.tail()"
   ]
  },
  {
   "cell_type": "markdown",
   "id": "547ff91d-6e06-4093-85c8-f8d07bfca419",
   "metadata": {},
   "source": [
    "2nd Gop Scrape"
   ]
  },
  {
   "cell_type": "code",
   "execution_count": 14,
   "id": "800948bf-959a-41b7-909a-9be42f07dd48",
   "metadata": {},
   "outputs": [],
   "source": [
    "url = 'https://api.pushshift.io/reddit/search/submission'\n",
    "params3 = {\n",
    "    'subreddit': 'Republican',\n",
    "    'limit': 1000,\n",
    "    'filter': 'subreddit, selftext, title, created_utc',\n",
    "    'until': 1670802742 \n",
    "}"
   ]
  },
  {
   "cell_type": "code",
   "execution_count": 15,
   "id": "4ca381ca-097b-4b40-9dd7-424ee0852a85",
   "metadata": {},
   "outputs": [
    {
     "data": {
      "text/plain": [
       "200"
      ]
     },
     "execution_count": 15,
     "metadata": {},
     "output_type": "execute_result"
    }
   ],
   "source": [
    "res3 = requests.get(url, params3)\n",
    "res3.status_code"
   ]
  },
  {
   "cell_type": "code",
   "execution_count": 16,
   "id": "9ecff21c-e1b0-4354-9b5a-ec6fae2e3392",
   "metadata": {},
   "outputs": [
    {
     "data": {
      "text/html": [
       "<div>\n",
       "<style scoped>\n",
       "    .dataframe tbody tr th:only-of-type {\n",
       "        vertical-align: middle;\n",
       "    }\n",
       "\n",
       "    .dataframe tbody tr th {\n",
       "        vertical-align: top;\n",
       "    }\n",
       "\n",
       "    .dataframe thead th {\n",
       "        text-align: right;\n",
       "    }\n",
       "</style>\n",
       "<table border=\"1\" class=\"dataframe\">\n",
       "  <thead>\n",
       "    <tr style=\"text-align: right;\">\n",
       "      <th></th>\n",
       "      <th>subreddit</th>\n",
       "      <th>selftext</th>\n",
       "      <th>title</th>\n",
       "      <th>created_utc</th>\n",
       "    </tr>\n",
       "  </thead>\n",
       "  <tbody>\n",
       "    <tr>\n",
       "      <th>995</th>\n",
       "      <td>Republican</td>\n",
       "      <td>[removed]</td>\n",
       "      <td>Trump Just announced 2024 bid, what u guys think?</td>\n",
       "      <td>1668564321</td>\n",
       "    </tr>\n",
       "    <tr>\n",
       "      <th>996</th>\n",
       "      <td>Republican</td>\n",
       "      <td></td>\n",
       "      <td>The Kids Are Not All Right. The outcome of mos...</td>\n",
       "      <td>1668560366</td>\n",
       "    </tr>\n",
       "    <tr>\n",
       "      <th>997</th>\n",
       "      <td>Republican</td>\n",
       "      <td></td>\n",
       "      <td>Schumer Says GOP Will ‘Keep Losing’ As Long As...</td>\n",
       "      <td>1668560207</td>\n",
       "    </tr>\n",
       "    <tr>\n",
       "      <th>998</th>\n",
       "      <td>Republican</td>\n",
       "      <td></td>\n",
       "      <td>Nancy &amp;amp; Paul Pelosi Received $5 Million Fr...</td>\n",
       "      <td>1668556863</td>\n",
       "    </tr>\n",
       "    <tr>\n",
       "      <th>999</th>\n",
       "      <td>Republican</td>\n",
       "      <td>[removed]</td>\n",
       "      <td>Hard for me to move on from Trump, I just like...</td>\n",
       "      <td>1668556610</td>\n",
       "    </tr>\n",
       "  </tbody>\n",
       "</table>\n",
       "</div>"
      ],
      "text/plain": [
       "      subreddit   selftext                                              title  \\\n",
       "995  Republican  [removed]  Trump Just announced 2024 bid, what u guys think?   \n",
       "996  Republican             The Kids Are Not All Right. The outcome of mos...   \n",
       "997  Republican             Schumer Says GOP Will ‘Keep Losing’ As Long As...   \n",
       "998  Republican             Nancy &amp; Paul Pelosi Received $5 Million Fr...   \n",
       "999  Republican  [removed]  Hard for me to move on from Trump, I just like...   \n",
       "\n",
       "     created_utc  \n",
       "995   1668564321  \n",
       "996   1668560366  \n",
       "997   1668560207  \n",
       "998   1668556863  \n",
       "999   1668556610  "
      ]
     },
     "execution_count": 16,
     "metadata": {},
     "output_type": "execute_result"
    }
   ],
   "source": [
    "df_gop2 = pd.DataFrame(res3.json()['data'])\n",
    "df_gop2.tail()"
   ]
  },
  {
   "cell_type": "code",
   "execution_count": null,
   "id": "f121d0a6-b26f-435c-a390-4e80c300ddd9",
   "metadata": {},
   "outputs": [],
   "source": []
  },
  {
   "cell_type": "code",
   "execution_count": null,
   "id": "3bb00a71-edc8-4ad6-8db0-c28fcbb61b94",
   "metadata": {},
   "outputs": [],
   "source": []
  },
  {
   "cell_type": "code",
   "execution_count": 21,
   "id": "1d674833-c422-4fbe-bea2-23abef45702d",
   "metadata": {},
   "outputs": [],
   "source": [
    "url = 'https://api.pushshift.io/reddit/search/submission'\n",
    "params2 = {\n",
    "    'subreddit': 'democrats',\n",
    "    'limit': 1000,\n",
    "    'filter': 'subreddit, selftext, title, created_utc',\n",
    "    'until': 1673298470\n",
    "}"
   ]
  },
  {
   "cell_type": "code",
   "execution_count": 22,
   "id": "1a46fcf1-bd25-447e-b0ed-0f6d8c418d88",
   "metadata": {},
   "outputs": [
    {
     "data": {
      "text/plain": [
       "200"
      ]
     },
     "execution_count": 22,
     "metadata": {},
     "output_type": "execute_result"
    }
   ],
   "source": [
    "res2 = requests.get(url, params2)\n",
    "res2.status_code"
   ]
  },
  {
   "cell_type": "code",
   "execution_count": 23,
   "id": "dd78c17f-d63d-4b0c-8534-dd8f62277670",
   "metadata": {},
   "outputs": [
    {
     "data": {
      "text/html": [
       "<div>\n",
       "<style scoped>\n",
       "    .dataframe tbody tr th:only-of-type {\n",
       "        vertical-align: middle;\n",
       "    }\n",
       "\n",
       "    .dataframe tbody tr th {\n",
       "        vertical-align: top;\n",
       "    }\n",
       "\n",
       "    .dataframe thead th {\n",
       "        text-align: right;\n",
       "    }\n",
       "</style>\n",
       "<table border=\"1\" class=\"dataframe\">\n",
       "  <thead>\n",
       "    <tr style=\"text-align: right;\">\n",
       "      <th></th>\n",
       "      <th>subreddit</th>\n",
       "      <th>selftext</th>\n",
       "      <th>title</th>\n",
       "      <th>created_utc</th>\n",
       "    </tr>\n",
       "  </thead>\n",
       "  <tbody>\n",
       "    <tr>\n",
       "      <th>995</th>\n",
       "      <td>democrats</td>\n",
       "      <td></td>\n",
       "      <td>169 GQP members voted against same sex marriage!</td>\n",
       "      <td>1670520009</td>\n",
       "    </tr>\n",
       "    <tr>\n",
       "      <th>996</th>\n",
       "      <td>democrats</td>\n",
       "      <td>[removed]</td>\n",
       "      <td>How Is This Okay? Banned from r/AskThe_Donald</td>\n",
       "      <td>1670519764</td>\n",
       "    </tr>\n",
       "    <tr>\n",
       "      <th>997</th>\n",
       "      <td>democrats</td>\n",
       "      <td></td>\n",
       "      <td>A Tennessee Bill Wants to Make Drag Shows Illegal</td>\n",
       "      <td>1670519598</td>\n",
       "    </tr>\n",
       "    <tr>\n",
       "      <th>998</th>\n",
       "      <td>democrats</td>\n",
       "      <td></td>\n",
       "      <td>PSE substations among five attacked in Pacific...</td>\n",
       "      <td>1670517691</td>\n",
       "    </tr>\n",
       "    <tr>\n",
       "      <th>999</th>\n",
       "      <td>democrats</td>\n",
       "      <td></td>\n",
       "      <td>Thank you for the cheap gas prices Biden!</td>\n",
       "      <td>1670516219</td>\n",
       "    </tr>\n",
       "  </tbody>\n",
       "</table>\n",
       "</div>"
      ],
      "text/plain": [
       "     subreddit   selftext                                              title  \\\n",
       "995  democrats              169 GQP members voted against same sex marriage!   \n",
       "996  democrats  [removed]      How Is This Okay? Banned from r/AskThe_Donald   \n",
       "997  democrats             A Tennessee Bill Wants to Make Drag Shows Illegal   \n",
       "998  democrats             PSE substations among five attacked in Pacific...   \n",
       "999  democrats                     Thank you for the cheap gas prices Biden!   \n",
       "\n",
       "     created_utc  \n",
       "995   1670520009  \n",
       "996   1670519764  \n",
       "997   1670519598  \n",
       "998   1670517691  \n",
       "999   1670516219  "
      ]
     },
     "execution_count": 23,
     "metadata": {},
     "output_type": "execute_result"
    }
   ],
   "source": [
    "df_dems = pd.DataFrame(res2.json()['data'])\n",
    "df_dems.tail()"
   ]
  },
  {
   "cell_type": "code",
   "execution_count": 24,
   "id": "ac9ea979-191e-457f-a69a-8854d975e089",
   "metadata": {},
   "outputs": [],
   "source": [
    "url = 'https://api.pushshift.io/reddit/search/submission'\n",
    "params4 = {\n",
    "    'subreddit': 'democrats',\n",
    "    'limit': 1000,\n",
    "    'filter': 'subreddit, selftext, title, created_utc',\n",
    "    'until': 1670516219\n",
    "}"
   ]
  },
  {
   "cell_type": "code",
   "execution_count": 25,
   "id": "3c4467a9-f75d-44b4-8184-866782144c45",
   "metadata": {},
   "outputs": [
    {
     "data": {
      "text/plain": [
       "200"
      ]
     },
     "execution_count": 25,
     "metadata": {},
     "output_type": "execute_result"
    }
   ],
   "source": [
    "res4 = requests.get(url, params4)\n",
    "res4.status_code"
   ]
  },
  {
   "cell_type": "code",
   "execution_count": 26,
   "id": "fdaa2b75-bef9-46f0-9b75-d7a178fac0ae",
   "metadata": {},
   "outputs": [
    {
     "data": {
      "text/html": [
       "<div>\n",
       "<style scoped>\n",
       "    .dataframe tbody tr th:only-of-type {\n",
       "        vertical-align: middle;\n",
       "    }\n",
       "\n",
       "    .dataframe tbody tr th {\n",
       "        vertical-align: top;\n",
       "    }\n",
       "\n",
       "    .dataframe thead th {\n",
       "        text-align: right;\n",
       "    }\n",
       "</style>\n",
       "<table border=\"1\" class=\"dataframe\">\n",
       "  <thead>\n",
       "    <tr style=\"text-align: right;\">\n",
       "      <th></th>\n",
       "      <th>subreddit</th>\n",
       "      <th>selftext</th>\n",
       "      <th>title</th>\n",
       "      <th>created_utc</th>\n",
       "    </tr>\n",
       "  </thead>\n",
       "  <tbody>\n",
       "    <tr>\n",
       "      <th>995</th>\n",
       "      <td>democrats</td>\n",
       "      <td></td>\n",
       "      <td>So I was banned from r/republicans for sharing...</td>\n",
       "      <td>1668308880</td>\n",
       "    </tr>\n",
       "    <tr>\n",
       "      <th>996</th>\n",
       "      <td>democrats</td>\n",
       "      <td></td>\n",
       "      <td>So what happened in Texas and Florida? A lot o...</td>\n",
       "      <td>1668308851</td>\n",
       "    </tr>\n",
       "    <tr>\n",
       "      <th>997</th>\n",
       "      <td>democrats</td>\n",
       "      <td></td>\n",
       "      <td>Democrats will keep control of the Senate, NBC...</td>\n",
       "      <td>1668308333</td>\n",
       "    </tr>\n",
       "    <tr>\n",
       "      <th>998</th>\n",
       "      <td>democrats</td>\n",
       "      <td></td>\n",
       "      <td>Democrats keep control of the Senate</td>\n",
       "      <td>1668306933</td>\n",
       "    </tr>\n",
       "    <tr>\n",
       "      <th>999</th>\n",
       "      <td>democrats</td>\n",
       "      <td></td>\n",
       "      <td>YES!!!!!!!!!</td>\n",
       "      <td>1668306844</td>\n",
       "    </tr>\n",
       "  </tbody>\n",
       "</table>\n",
       "</div>"
      ],
      "text/plain": [
       "     subreddit selftext                                              title  \\\n",
       "995  democrats           So I was banned from r/republicans for sharing...   \n",
       "996  democrats           So what happened in Texas and Florida? A lot o...   \n",
       "997  democrats           Democrats will keep control of the Senate, NBC...   \n",
       "998  democrats                        Democrats keep control of the Senate   \n",
       "999  democrats                                                YES!!!!!!!!!   \n",
       "\n",
       "     created_utc  \n",
       "995   1668308880  \n",
       "996   1668308851  \n",
       "997   1668308333  \n",
       "998   1668306933  \n",
       "999   1668306844  "
      ]
     },
     "execution_count": 26,
     "metadata": {},
     "output_type": "execute_result"
    }
   ],
   "source": [
    "df_dems2 = pd.DataFrame(res4.json()['data'])\n",
    "df_dems2.tail()"
   ]
  },
  {
   "cell_type": "markdown",
   "id": "1bef7a57-c83e-4d2e-8fe6-20ecbb5fb01b",
   "metadata": {},
   "source": [
    "- Combining all four datasets"
   ]
  },
  {
   "cell_type": "code",
   "execution_count": 27,
   "id": "3f821ef8-53bd-4728-9ad9-dfab8e402c1a",
   "metadata": {},
   "outputs": [],
   "source": [
    "both = [df_gop, df_gop2, df_dems, df_dems2]"
   ]
  },
  {
   "cell_type": "code",
   "execution_count": 28,
   "id": "58adff6e-2ba3-499f-938a-348452bea2cf",
   "metadata": {},
   "outputs": [],
   "source": [
    "df= pd.concat(both)"
   ]
  },
  {
   "cell_type": "code",
   "execution_count": 29,
   "id": "af6200ec-e75d-42de-892c-deecaed1e88b",
   "metadata": {},
   "outputs": [
    {
     "data": {
      "text/plain": [
       "(4000, 4)"
      ]
     },
     "execution_count": 29,
     "metadata": {},
     "output_type": "execute_result"
    }
   ],
   "source": [
    "df.shape"
   ]
  },
  {
   "cell_type": "code",
   "execution_count": 30,
   "id": "8524d894-221e-4061-a32c-c0ef57aea3ae",
   "metadata": {},
   "outputs": [
    {
     "data": {
      "text/html": [
       "<div>\n",
       "<style scoped>\n",
       "    .dataframe tbody tr th:only-of-type {\n",
       "        vertical-align: middle;\n",
       "    }\n",
       "\n",
       "    .dataframe tbody tr th {\n",
       "        vertical-align: top;\n",
       "    }\n",
       "\n",
       "    .dataframe thead th {\n",
       "        text-align: right;\n",
       "    }\n",
       "</style>\n",
       "<table border=\"1\" class=\"dataframe\">\n",
       "  <thead>\n",
       "    <tr style=\"text-align: right;\">\n",
       "      <th></th>\n",
       "      <th>subreddit</th>\n",
       "      <th>selftext</th>\n",
       "      <th>title</th>\n",
       "      <th>created_utc</th>\n",
       "    </tr>\n",
       "  </thead>\n",
       "  <tbody>\n",
       "    <tr>\n",
       "      <th>0</th>\n",
       "      <td>Republican</td>\n",
       "      <td></td>\n",
       "      <td>Biden’s Immigration ‘Parole’ Scam: Biden is wi...</td>\n",
       "      <td>1673298341</td>\n",
       "    </tr>\n",
       "    <tr>\n",
       "      <th>1</th>\n",
       "      <td>Republican</td>\n",
       "      <td></td>\n",
       "      <td>Kari Lake Praises Georgia Judge Who Ordered Ne...</td>\n",
       "      <td>1673297106</td>\n",
       "    </tr>\n",
       "    <tr>\n",
       "      <th>2</th>\n",
       "      <td>Republican</td>\n",
       "      <td></td>\n",
       "      <td>Texas authorities are searching for a man who ...</td>\n",
       "      <td>1673296415</td>\n",
       "    </tr>\n",
       "    <tr>\n",
       "      <th>3</th>\n",
       "      <td>Republican</td>\n",
       "      <td></td>\n",
       "      <td>BREAKING: California DoJ Just DIRECTLY Spit In...</td>\n",
       "      <td>1673296070</td>\n",
       "    </tr>\n",
       "    <tr>\n",
       "      <th>4</th>\n",
       "      <td>Republican</td>\n",
       "      <td></td>\n",
       "      <td>Court to ATF Gun-Grabbers: Bump Stocks Aren’t ...</td>\n",
       "      <td>1673295099</td>\n",
       "    </tr>\n",
       "  </tbody>\n",
       "</table>\n",
       "</div>"
      ],
      "text/plain": [
       "    subreddit selftext                                              title  \\\n",
       "0  Republican           Biden’s Immigration ‘Parole’ Scam: Biden is wi...   \n",
       "1  Republican           Kari Lake Praises Georgia Judge Who Ordered Ne...   \n",
       "2  Republican           Texas authorities are searching for a man who ...   \n",
       "3  Republican           BREAKING: California DoJ Just DIRECTLY Spit In...   \n",
       "4  Republican           Court to ATF Gun-Grabbers: Bump Stocks Aren’t ...   \n",
       "\n",
       "   created_utc  \n",
       "0   1673298341  \n",
       "1   1673297106  \n",
       "2   1673296415  \n",
       "3   1673296070  \n",
       "4   1673295099  "
      ]
     },
     "execution_count": 30,
     "metadata": {},
     "output_type": "execute_result"
    }
   ],
   "source": [
    "df.head()"
   ]
  },
  {
   "cell_type": "code",
   "execution_count": 31,
   "id": "548af789-a89e-4125-9a99-85ff58d6ce17",
   "metadata": {},
   "outputs": [],
   "source": [
    "df.to_csv('data/2kdemgop.csv', index=False, header=True)"
   ]
  },
  {
   "cell_type": "code",
   "execution_count": null,
   "id": "0e46c0fb-7b36-45eb-93f7-8081dd41cb12",
   "metadata": {},
   "outputs": [],
   "source": []
  }
 ],
 "metadata": {
  "kernelspec": {
   "display_name": "Python 3 (ipykernel)",
   "language": "python",
   "name": "python3"
  },
  "language_info": {
   "codemirror_mode": {
    "name": "ipython",
    "version": 3
   },
   "file_extension": ".py",
   "mimetype": "text/x-python",
   "name": "python",
   "nbconvert_exporter": "python",
   "pygments_lexer": "ipython3",
   "version": "3.9.13"
  }
 },
 "nbformat": 4,
 "nbformat_minor": 5
}
