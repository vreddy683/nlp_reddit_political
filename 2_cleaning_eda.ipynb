{
 "cells": [
  {
   "cell_type": "code",
   "execution_count": 127,
   "id": "d42b94ac-fe4f-40cf-850f-24d48eca4993",
   "metadata": {},
   "outputs": [],
   "source": [
    "import pandas as pd\n",
    "import numpy as np\n",
    "import matplotlib.pyplot as plt\n",
    "import seaborn as sns\n",
    "\n",
    "from sklearn.tree import DecisionTreeClassifier\n",
    "from sklearn.metrics import accuracy_score, ConfusionMatrixDisplay, confusion_matrix\n",
    "\n",
    "from nltk.stem import WordNetLemmatizer\n",
    "from nltk.corpus import stopwords\n",
    "from nltk.sentiment.vader import SentimentIntensityAnalyzer\n",
    "import nltk\n",
    "\n",
    "from sklearn.model_selection import train_test_split, cross_val_predict, cross_val_score, GridSearchCV\n",
    "\n",
    "from sklearn.pipeline import Pipeline\n",
    "from sklearn.neighbors import KNeighborsClassifier\n",
    "from sklearn.preprocessing import StandardScaler\n",
    "from sklearn.metrics import (accuracy_score, precision_score, recall_score, f1_score)\n",
    "\n",
    "from sklearn.linear_model import LogisticRegression\n",
    "from sklearn.ensemble import BaggingClassifier, StackingClassifier, RandomForestClassifier, AdaBoostClassifier\n",
    "\n",
    "from sklearn.feature_extraction.text import TfidfVectorizer, CountVectorizer\n",
    "from sklearn.naive_bayes import MultinomialNB\n",
    "\n",
    "import warnings"
   ]
  },
  {
   "cell_type": "code",
   "execution_count": 84,
   "id": "71ad27dc-ce57-4f33-ba55-62086061a83b",
   "metadata": {},
   "outputs": [],
   "source": [
    "warnings.filterwarnings(\"ignore\")"
   ]
  },
  {
   "cell_type": "code",
   "execution_count": 85,
   "id": "bcda4e1d-35fb-4ade-86a2-57948bc88302",
   "metadata": {},
   "outputs": [],
   "source": [
    "df = pd.read_csv('./data/2kdemgop.csv')"
   ]
  },
  {
   "cell_type": "markdown",
   "id": "16c43e45-94df-414c-a053-f8140f58fba5",
   "metadata": {},
   "source": [
    "## EDA"
   ]
  },
  {
   "cell_type": "code",
   "execution_count": 86,
   "id": "c8179b3d-2588-4112-b70b-a5bea66b324d",
   "metadata": {},
   "outputs": [
    {
     "data": {
      "text/html": [
       "<div>\n",
       "<style scoped>\n",
       "    .dataframe tbody tr th:only-of-type {\n",
       "        vertical-align: middle;\n",
       "    }\n",
       "\n",
       "    .dataframe tbody tr th {\n",
       "        vertical-align: top;\n",
       "    }\n",
       "\n",
       "    .dataframe thead th {\n",
       "        text-align: right;\n",
       "    }\n",
       "</style>\n",
       "<table border=\"1\" class=\"dataframe\">\n",
       "  <thead>\n",
       "    <tr style=\"text-align: right;\">\n",
       "      <th></th>\n",
       "      <th>subreddit</th>\n",
       "      <th>selftext</th>\n",
       "      <th>title</th>\n",
       "      <th>created_utc</th>\n",
       "    </tr>\n",
       "  </thead>\n",
       "  <tbody>\n",
       "    <tr>\n",
       "      <th>0</th>\n",
       "      <td>Republican</td>\n",
       "      <td>NaN</td>\n",
       "      <td>Biden’s Immigration ‘Parole’ Scam: Biden is willfully failing to execute the laws faithfully when it comes to illegal immigration.</td>\n",
       "      <td>1673298341</td>\n",
       "    </tr>\n",
       "    <tr>\n",
       "      <th>1</th>\n",
       "      <td>Republican</td>\n",
       "      <td>NaN</td>\n",
       "      <td>Kari Lake Praises Georgia Judge Who Ordered New Election</td>\n",
       "      <td>1673297106</td>\n",
       "    </tr>\n",
       "    <tr>\n",
       "      <th>2</th>\n",
       "      <td>Republican</td>\n",
       "      <td>NaN</td>\n",
       "      <td>Texas authorities are searching for a man who fatally shot a suspected robber inside a Houston taco restaurant last week. The shooting death occurred inside Ranchito Taqueria at approximately 11:30 p.m. CT on Thursday. https://www.conservativenewsdaily.net/</td>\n",
       "      <td>1673296415</td>\n",
       "    </tr>\n",
       "    <tr>\n",
       "      <th>3</th>\n",
       "      <td>Republican</td>\n",
       "      <td>NaN</td>\n",
       "      <td>BREAKING: California DoJ Just DIRECTLY Spit In EVERY Cop’s Face- People WILL Be Heading To PRISON!!!</td>\n",
       "      <td>1673296070</td>\n",
       "    </tr>\n",
       "    <tr>\n",
       "      <th>4</th>\n",
       "      <td>Republican</td>\n",
       "      <td>NaN</td>\n",
       "      <td>Court to ATF Gun-Grabbers: Bump Stocks Aren’t Machine Guns and You Don’t Make the Rules</td>\n",
       "      <td>1673295099</td>\n",
       "    </tr>\n",
       "  </tbody>\n",
       "</table>\n",
       "</div>"
      ],
      "text/plain": [
       "    subreddit selftext  \\\n",
       "0  Republican      NaN   \n",
       "1  Republican      NaN   \n",
       "2  Republican      NaN   \n",
       "3  Republican      NaN   \n",
       "4  Republican      NaN   \n",
       "\n",
       "                                                                                                                                                                                                                                                               title  \\\n",
       "0                                                                                                                                 Biden’s Immigration ‘Parole’ Scam: Biden is willfully failing to execute the laws faithfully when it comes to illegal immigration.   \n",
       "1                                                                                                                                                                                                           Kari Lake Praises Georgia Judge Who Ordered New Election   \n",
       "2  Texas authorities are searching for a man who fatally shot a suspected robber inside a Houston taco restaurant last week. The shooting death occurred inside Ranchito Taqueria at approximately 11:30 p.m. CT on Thursday. https://www.conservativenewsdaily.net/   \n",
       "3                                                                                                                                                               BREAKING: California DoJ Just DIRECTLY Spit In EVERY Cop’s Face- People WILL Be Heading To PRISON!!!   \n",
       "4                                                                                                                                                                            Court to ATF Gun-Grabbers: Bump Stocks Aren’t Machine Guns and You Don’t Make the Rules   \n",
       "\n",
       "   created_utc  \n",
       "0   1673298341  \n",
       "1   1673297106  \n",
       "2   1673296415  \n",
       "3   1673296070  \n",
       "4   1673295099  "
      ]
     },
     "execution_count": 86,
     "metadata": {},
     "output_type": "execute_result"
    }
   ],
   "source": [
    "df.head()"
   ]
  },
  {
   "cell_type": "code",
   "execution_count": null,
   "id": "81fc63c5-4881-4ca5-bb40-725bec643635",
   "metadata": {},
   "outputs": [],
   "source": []
  },
  {
   "cell_type": "code",
   "execution_count": 87,
   "id": "539223f9-526a-478a-9fda-b5ff571d9739",
   "metadata": {},
   "outputs": [],
   "source": [
    "df['subreddit'] = df['subreddit'].str.lower()"
   ]
  },
  {
   "cell_type": "code",
   "execution_count": 88,
   "id": "e7b02e7d-d3fb-4027-a88f-b200b711f757",
   "metadata": {},
   "outputs": [
    {
     "name": "stdout",
     "output_type": "stream",
     "text": [
      "<class 'pandas.core.frame.DataFrame'>\n",
      "RangeIndex: 4000 entries, 0 to 3999\n",
      "Data columns (total 4 columns):\n",
      " #   Column       Non-Null Count  Dtype \n",
      "---  ------       --------------  ----- \n",
      " 0   subreddit    4000 non-null   object\n",
      " 1   selftext     320 non-null    object\n",
      " 2   title        4000 non-null   object\n",
      " 3   created_utc  4000 non-null   int64 \n",
      "dtypes: int64(1), object(3)\n",
      "memory usage: 125.1+ KB\n"
     ]
    }
   ],
   "source": [
    "df.info()"
   ]
  },
  {
   "cell_type": "markdown",
   "id": "a6c65cc1-2471-4ccb-8da4-3083d17f36eb",
   "metadata": {},
   "source": [
    "- Dropping selftext column since more than 90% is null."
   ]
  },
  {
   "cell_type": "code",
   "execution_count": 89,
   "id": "ba9f1c2a-e39f-4c57-9418-214b04fb824d",
   "metadata": {},
   "outputs": [
    {
     "data": {
      "text/html": [
       "<div>\n",
       "<style scoped>\n",
       "    .dataframe tbody tr th:only-of-type {\n",
       "        vertical-align: middle;\n",
       "    }\n",
       "\n",
       "    .dataframe tbody tr th {\n",
       "        vertical-align: top;\n",
       "    }\n",
       "\n",
       "    .dataframe thead th {\n",
       "        text-align: right;\n",
       "    }\n",
       "</style>\n",
       "<table border=\"1\" class=\"dataframe\">\n",
       "  <thead>\n",
       "    <tr style=\"text-align: right;\">\n",
       "      <th></th>\n",
       "      <th>subreddit</th>\n",
       "      <th>title</th>\n",
       "      <th>created_utc</th>\n",
       "    </tr>\n",
       "  </thead>\n",
       "  <tbody>\n",
       "    <tr>\n",
       "      <th>0</th>\n",
       "      <td>republican</td>\n",
       "      <td>Biden’s Immigration ‘Parole’ Scam: Biden is willfully failing to execute the laws faithfully when it comes to illegal immigration.</td>\n",
       "      <td>1673298341</td>\n",
       "    </tr>\n",
       "    <tr>\n",
       "      <th>1</th>\n",
       "      <td>republican</td>\n",
       "      <td>Kari Lake Praises Georgia Judge Who Ordered New Election</td>\n",
       "      <td>1673297106</td>\n",
       "    </tr>\n",
       "    <tr>\n",
       "      <th>2</th>\n",
       "      <td>republican</td>\n",
       "      <td>Texas authorities are searching for a man who fatally shot a suspected robber inside a Houston taco restaurant last week. The shooting death occurred inside Ranchito Taqueria at approximately 11:30 p.m. CT on Thursday. https://www.conservativenewsdaily.net/</td>\n",
       "      <td>1673296415</td>\n",
       "    </tr>\n",
       "    <tr>\n",
       "      <th>3</th>\n",
       "      <td>republican</td>\n",
       "      <td>BREAKING: California DoJ Just DIRECTLY Spit In EVERY Cop’s Face- People WILL Be Heading To PRISON!!!</td>\n",
       "      <td>1673296070</td>\n",
       "    </tr>\n",
       "    <tr>\n",
       "      <th>4</th>\n",
       "      <td>republican</td>\n",
       "      <td>Court to ATF Gun-Grabbers: Bump Stocks Aren’t Machine Guns and You Don’t Make the Rules</td>\n",
       "      <td>1673295099</td>\n",
       "    </tr>\n",
       "  </tbody>\n",
       "</table>\n",
       "</div>"
      ],
      "text/plain": [
       "    subreddit  \\\n",
       "0  republican   \n",
       "1  republican   \n",
       "2  republican   \n",
       "3  republican   \n",
       "4  republican   \n",
       "\n",
       "                                                                                                                                                                                                                                                               title  \\\n",
       "0                                                                                                                                 Biden’s Immigration ‘Parole’ Scam: Biden is willfully failing to execute the laws faithfully when it comes to illegal immigration.   \n",
       "1                                                                                                                                                                                                           Kari Lake Praises Georgia Judge Who Ordered New Election   \n",
       "2  Texas authorities are searching for a man who fatally shot a suspected robber inside a Houston taco restaurant last week. The shooting death occurred inside Ranchito Taqueria at approximately 11:30 p.m. CT on Thursday. https://www.conservativenewsdaily.net/   \n",
       "3                                                                                                                                                               BREAKING: California DoJ Just DIRECTLY Spit In EVERY Cop’s Face- People WILL Be Heading To PRISON!!!   \n",
       "4                                                                                                                                                                            Court to ATF Gun-Grabbers: Bump Stocks Aren’t Machine Guns and You Don’t Make the Rules   \n",
       "\n",
       "   created_utc  \n",
       "0   1673298341  \n",
       "1   1673297106  \n",
       "2   1673296415  \n",
       "3   1673296070  \n",
       "4   1673295099  "
      ]
     },
     "execution_count": 89,
     "metadata": {},
     "output_type": "execute_result"
    }
   ],
   "source": [
    "df.drop(columns=\"selftext\", inplace = True)\n",
    "df.head()"
   ]
  },
  {
   "cell_type": "code",
   "execution_count": 156,
   "id": "0e8b349e-842b-4bc7-bc2d-d9b9b793da54",
   "metadata": {},
   "outputs": [
    {
     "name": "stdout",
     "output_type": "stream",
     "text": [
      "<class 'pandas.core.frame.DataFrame'>\n",
      "RangeIndex: 4000 entries, 0 to 3999\n",
      "Data columns (total 3 columns):\n",
      " #   Column       Non-Null Count  Dtype \n",
      "---  ------       --------------  ----- \n",
      " 0   subreddit    4000 non-null   object\n",
      " 1   title        4000 non-null   object\n",
      " 2   created_utc  4000 non-null   int64 \n",
      "dtypes: int64(1), object(2)\n",
      "memory usage: 93.9+ KB\n"
     ]
    }
   ],
   "source": [
    "df.info()"
   ]
  },
  {
   "cell_type": "code",
   "execution_count": 90,
   "id": "a40e65fe-8835-46e3-89a1-71bd67829a05",
   "metadata": {},
   "outputs": [
    {
     "data": {
      "text/plain": [
       "republican    2000\n",
       "democrats     2000\n",
       "Name: subreddit, dtype: int64"
      ]
     },
     "execution_count": 90,
     "metadata": {},
     "output_type": "execute_result"
    }
   ],
   "source": [
    "df['subreddit'].value_counts()"
   ]
  },
  {
   "cell_type": "code",
   "execution_count": 91,
   "id": "3ce94df2-2e5b-4557-b8f6-1a938bea0a61",
   "metadata": {},
   "outputs": [
    {
     "data": {
      "text/plain": [
       "republican    2000\n",
       "democrats     2000\n",
       "Name: subreddit, dtype: int64"
      ]
     },
     "execution_count": 91,
     "metadata": {},
     "output_type": "execute_result"
    }
   ],
   "source": [
    "df['subreddit'] = df['subreddit'].str.lower()\n",
    "df['subreddit'].value_counts()"
   ]
  },
  {
   "cell_type": "markdown",
   "id": "d34ffc48-764b-4391-89f8-49a6743367b0",
   "metadata": {},
   "source": [
    "Creating GOP and DEM datasets for analysis"
   ]
  },
  {
   "cell_type": "code",
   "execution_count": 92,
   "id": "888dbfb8-18b0-4746-924d-88663107e486",
   "metadata": {},
   "outputs": [
    {
     "data": {
      "text/html": [
       "<div>\n",
       "<style scoped>\n",
       "    .dataframe tbody tr th:only-of-type {\n",
       "        vertical-align: middle;\n",
       "    }\n",
       "\n",
       "    .dataframe tbody tr th {\n",
       "        vertical-align: top;\n",
       "    }\n",
       "\n",
       "    .dataframe thead th {\n",
       "        text-align: right;\n",
       "    }\n",
       "</style>\n",
       "<table border=\"1\" class=\"dataframe\">\n",
       "  <thead>\n",
       "    <tr style=\"text-align: right;\">\n",
       "      <th></th>\n",
       "      <th>subreddit</th>\n",
       "      <th>title</th>\n",
       "      <th>created_utc</th>\n",
       "    </tr>\n",
       "  </thead>\n",
       "  <tbody>\n",
       "    <tr>\n",
       "      <th>0</th>\n",
       "      <td>republican</td>\n",
       "      <td>Biden’s Immigration ‘Parole’ Scam: Biden is willfully failing to execute the laws faithfully when it comes to illegal immigration.</td>\n",
       "      <td>1673298341</td>\n",
       "    </tr>\n",
       "    <tr>\n",
       "      <th>1</th>\n",
       "      <td>republican</td>\n",
       "      <td>Kari Lake Praises Georgia Judge Who Ordered New Election</td>\n",
       "      <td>1673297106</td>\n",
       "    </tr>\n",
       "    <tr>\n",
       "      <th>2</th>\n",
       "      <td>republican</td>\n",
       "      <td>Texas authorities are searching for a man who fatally shot a suspected robber inside a Houston taco restaurant last week. The shooting death occurred inside Ranchito Taqueria at approximately 11:30 p.m. CT on Thursday. https://www.conservativenewsdaily.net/</td>\n",
       "      <td>1673296415</td>\n",
       "    </tr>\n",
       "    <tr>\n",
       "      <th>3</th>\n",
       "      <td>republican</td>\n",
       "      <td>BREAKING: California DoJ Just DIRECTLY Spit In EVERY Cop’s Face- People WILL Be Heading To PRISON!!!</td>\n",
       "      <td>1673296070</td>\n",
       "    </tr>\n",
       "    <tr>\n",
       "      <th>4</th>\n",
       "      <td>republican</td>\n",
       "      <td>Court to ATF Gun-Grabbers: Bump Stocks Aren’t Machine Guns and You Don’t Make the Rules</td>\n",
       "      <td>1673295099</td>\n",
       "    </tr>\n",
       "  </tbody>\n",
       "</table>\n",
       "</div>"
      ],
      "text/plain": [
       "    subreddit  \\\n",
       "0  republican   \n",
       "1  republican   \n",
       "2  republican   \n",
       "3  republican   \n",
       "4  republican   \n",
       "\n",
       "                                                                                                                                                                                                                                                               title  \\\n",
       "0                                                                                                                                 Biden’s Immigration ‘Parole’ Scam: Biden is willfully failing to execute the laws faithfully when it comes to illegal immigration.   \n",
       "1                                                                                                                                                                                                           Kari Lake Praises Georgia Judge Who Ordered New Election   \n",
       "2  Texas authorities are searching for a man who fatally shot a suspected robber inside a Houston taco restaurant last week. The shooting death occurred inside Ranchito Taqueria at approximately 11:30 p.m. CT on Thursday. https://www.conservativenewsdaily.net/   \n",
       "3                                                                                                                                                               BREAKING: California DoJ Just DIRECTLY Spit In EVERY Cop’s Face- People WILL Be Heading To PRISON!!!   \n",
       "4                                                                                                                                                                            Court to ATF Gun-Grabbers: Bump Stocks Aren’t Machine Guns and You Don’t Make the Rules   \n",
       "\n",
       "   created_utc  \n",
       "0   1673298341  \n",
       "1   1673297106  \n",
       "2   1673296415  \n",
       "3   1673296070  \n",
       "4   1673295099  "
      ]
     },
     "execution_count": 92,
     "metadata": {},
     "output_type": "execute_result"
    }
   ],
   "source": [
    "df_gop = df[df['subreddit'] == 'republican']\n",
    "df_gop.head()"
   ]
  },
  {
   "cell_type": "code",
   "execution_count": 93,
   "id": "14e7222a-2683-440a-b3eb-18b7dd40dd42",
   "metadata": {},
   "outputs": [
    {
     "data": {
      "text/html": [
       "<div>\n",
       "<style scoped>\n",
       "    .dataframe tbody tr th:only-of-type {\n",
       "        vertical-align: middle;\n",
       "    }\n",
       "\n",
       "    .dataframe tbody tr th {\n",
       "        vertical-align: top;\n",
       "    }\n",
       "\n",
       "    .dataframe thead th {\n",
       "        text-align: right;\n",
       "    }\n",
       "</style>\n",
       "<table border=\"1\" class=\"dataframe\">\n",
       "  <thead>\n",
       "    <tr style=\"text-align: right;\">\n",
       "      <th></th>\n",
       "      <th>subreddit</th>\n",
       "      <th>title</th>\n",
       "      <th>created_utc</th>\n",
       "    </tr>\n",
       "  </thead>\n",
       "  <tbody>\n",
       "    <tr>\n",
       "      <th>2000</th>\n",
       "      <td>democrats</td>\n",
       "      <td>Judge orders unsealing of Trump deposition in sexual assault case</td>\n",
       "      <td>1673297282</td>\n",
       "    </tr>\n",
       "    <tr>\n",
       "      <th>2001</th>\n",
       "      <td>democrats</td>\n",
       "      <td>Republicans Signal Cuts To Social Security, Medicare With New House Majority</td>\n",
       "      <td>1673296822</td>\n",
       "    </tr>\n",
       "    <tr>\n",
       "      <th>2002</th>\n",
       "      <td>democrats</td>\n",
       "      <td>Kevin McCarthy Is Already Inviting the Next Pandemic Mess</td>\n",
       "      <td>1673295465</td>\n",
       "    </tr>\n",
       "    <tr>\n",
       "      <th>2003</th>\n",
       "      <td>democrats</td>\n",
       "      <td>The United States should revise its power structure and electoral system</td>\n",
       "      <td>1673291291</td>\n",
       "    </tr>\n",
       "    <tr>\n",
       "      <th>2004</th>\n",
       "      <td>democrats</td>\n",
       "      <td>please do(n't)</td>\n",
       "      <td>1673290827</td>\n",
       "    </tr>\n",
       "  </tbody>\n",
       "</table>\n",
       "</div>"
      ],
      "text/plain": [
       "      subreddit  \\\n",
       "2000  democrats   \n",
       "2001  democrats   \n",
       "2002  democrats   \n",
       "2003  democrats   \n",
       "2004  democrats   \n",
       "\n",
       "                                                                             title  \\\n",
       "2000             Judge orders unsealing of Trump deposition in sexual assault case   \n",
       "2001  Republicans Signal Cuts To Social Security, Medicare With New House Majority   \n",
       "2002                     Kevin McCarthy Is Already Inviting the Next Pandemic Mess   \n",
       "2003      The United States should revise its power structure and electoral system   \n",
       "2004                                                                please do(n't)   \n",
       "\n",
       "      created_utc  \n",
       "2000   1673297282  \n",
       "2001   1673296822  \n",
       "2002   1673295465  \n",
       "2003   1673291291  \n",
       "2004   1673290827  "
      ]
     },
     "execution_count": 93,
     "metadata": {},
     "output_type": "execute_result"
    }
   ],
   "source": [
    "df_dem = df[df['subreddit'] == 'democrats']\n",
    "df_dem.head()"
   ]
  },
  {
   "cell_type": "code",
   "execution_count": 94,
   "id": "fe031506-d2bd-4a8c-a2f9-2a8b081c2869",
   "metadata": {},
   "outputs": [
    {
     "data": {
      "text/plain": [
       "(4000, 3)"
      ]
     },
     "execution_count": 94,
     "metadata": {},
     "output_type": "execute_result"
    }
   ],
   "source": [
    "df.shape"
   ]
  },
  {
   "cell_type": "markdown",
   "id": "10fffbfc-d164-44e6-8028-69c4bf4f18b2",
   "metadata": {},
   "source": [
    "Creation of word and letter counts by title of post"
   ]
  },
  {
   "cell_type": "code",
   "execution_count": 95,
   "id": "12aaadb6-3a54-4710-8771-43452d3b140d",
   "metadata": {
    "tags": []
   },
   "outputs": [],
   "source": [
    "df_gop['word_count']= [len(x.split()) for x in df_gop['title']]\n",
    "df_gop['letter_count']= [len(x) for x in df_gop['title']]"
   ]
  },
  {
   "cell_type": "code",
   "execution_count": 96,
   "id": "ad84ca15-7d95-45c2-a0d9-efb80d8beb96",
   "metadata": {},
   "outputs": [],
   "source": [
    "df_dem['word_count']= [len(x.split()) for x in df_dem['title']]\n",
    "df_dem['letter_count']= [len(x) for x in df_dem['title']]"
   ]
  },
  {
   "cell_type": "code",
   "execution_count": 97,
   "id": "6bc0a087-fe7e-4c04-a7eb-904228135982",
   "metadata": {},
   "outputs": [
    {
     "name": "stdout",
     "output_type": "stream",
     "text": [
      "GOP title  mean word count: 12.8795\n",
      "Dems title mean word count: 12.208\n"
     ]
    }
   ],
   "source": [
    "print(f\"GOP title  mean word count: {df_gop['word_count'].mean()}\")\n",
    "print(f\"Dems title mean word count: {df_dem['word_count'].mean()}\")"
   ]
  },
  {
   "cell_type": "code",
   "execution_count": 98,
   "id": "dcad593a-4ee5-4670-9877-ad0e2a83ae67",
   "metadata": {},
   "outputs": [
    {
     "name": "stdout",
     "output_type": "stream",
     "text": [
      "GOP title  mean letter count: 80.7925\n",
      "Dems title mean letter count: 74.331\n"
     ]
    }
   ],
   "source": [
    "print(f\"GOP title  mean letter count: {df_gop['letter_count'].mean()}\")\n",
    "print(f\"Dems title mean letter count: {df_dem['letter_count'].mean()}\")"
   ]
  },
  {
   "cell_type": "code",
   "execution_count": 99,
   "id": "1c4d7566-52f5-46fe-9015-05be63cca9bf",
   "metadata": {},
   "outputs": [
    {
     "data": {
      "image/png": "[encoded data removed]",
      "text/plain": [
       "<Figure size 640x480 with 1 Axes>"
      ]
     },
     "metadata": {},
     "output_type": "display_data"
    }
   ],
   "source": [
    "plt.hist(df_gop['word_count'], color = 'red')\n",
    "plt.xlabel('Word Count')\n",
    "plt.ylabel('Frequency')\n",
    "plt.title('GOP Word Count Distribution');\n",
    "\n",
    "plt.savefig('./images/gop_word_distr.png')"
   ]
  },
  {
   "cell_type": "code",
   "execution_count": 100,
   "id": "a46d4f36-be45-42fa-8553-d822b15188f7",
   "metadata": {},
   "outputs": [
    {
     "data": {
      "image/png": "[encoded data removed]",
      "text/plain": [
       "<Figure size 640x480 with 1 Axes>"
      ]
     },
     "metadata": {},
     "output_type": "display_data"
    }
   ],
   "source": [
    "plt.hist(df_dem['word_count'], color = 'blue')\n",
    "plt.xlabel('Word Count')\n",
    "plt.ylabel('Frequency')\n",
    "plt.title('Dem Word Count Distribution');\n",
    "\n",
    "plt.savefig('./images/dem_word_distr.png')"
   ]
  },
  {
   "cell_type": "code",
   "execution_count": null,
   "id": "df6cf163-93f4-4797-be0c-48b905b4a4dc",
   "metadata": {},
   "outputs": [],
   "source": []
  },
  {
   "cell_type": "code",
   "execution_count": 147,
   "id": "5ab27c98-3ed2-4eec-ae46-db2fb88c13fb",
   "metadata": {},
   "outputs": [],
   "source": [
    "stop = nltk.corpus.stopwords.words('english')\n",
    "stop.append('www')\n",
    "stop.append('https')\n"
   ]
  },
  {
   "cell_type": "code",
   "execution_count": 138,
   "id": "50846b79-848d-4900-a014-53215022e4ed",
   "metadata": {},
   "outputs": [
    {
     "data": {
      "text/plain": [
       "trump          523\n",
       "biden          371\n",
       "house          241\n",
       "twitter        225\n",
       "republicans    205\n",
       "democrats      197\n",
       "gop            161\n",
       "new            154\n",
       "election       151\n",
       "president      138\n",
       "republican     133\n",
       "says           120\n",
       "musk           117\n",
       "speaker        113\n",
       "elon           112\n",
       "dtype: int64"
      ]
     },
     "execution_count": 138,
     "metadata": {},
     "output_type": "execute_result"
    }
   ],
   "source": [
    "cvec = CountVectorizer(stop_words = stop)\n",
    "title_vect = cvec.fit_transform(df['title'])\n",
    "titlevect_df = pd.DataFrame(title_vect.todense(), columns= cvec.get_feature_names_out())\n",
    "\n",
    "titlevect_df.sum().sort_values(ascending=False).head(15)"
   ]
  },
  {
   "cell_type": "code",
   "execution_count": 139,
   "id": "5db8c227-f880-4e44-9b19-af97bce1ced9",
   "metadata": {},
   "outputs": [
    {
     "data": {
      "image/png": "[encoded data removed]",
      "text/plain": [
       "<Figure size 640x480 with 1 Axes>"
      ]
     },
     "metadata": {},
     "output_type": "display_data"
    }
   ],
   "source": [
    "titlevect_df.sum().sort_values(ascending=False).head(15).plot(kind='barh', color = 'orange')\n",
    "plt.xlabel('Frequency')\n",
    "plt.ylabel('Words')\n",
    "plt.title('Top 15 Most Common Words');"
   ]
  },
  {
   "cell_type": "markdown",
   "id": "13b43a41-b7e6-4eb2-a77c-9892f6140a5d",
   "metadata": {},
   "source": [
    "Top 20 GOP Words"
   ]
  },
  {
   "cell_type": "code",
   "execution_count": 140,
   "id": "64f65fad-a055-48d3-b6f8-552cbb2f427e",
   "metadata": {},
   "outputs": [
    {
     "data": {
      "text/plain": [
       "trump          261\n",
       "biden          244\n",
       "twitter        181\n",
       "house          112\n",
       "republicans     99\n",
       "new             86\n",
       "election        82\n",
       "gop             78\n",
       "musk            76\n",
       "says            71\n",
       "president       70\n",
       "elon            70\n",
       "files           62\n",
       "fbi             62\n",
       "republican      62\n",
       "desantis        60\n",
       "hunter          57\n",
       "people          57\n",
       "2024            56\n",
       "covid           53\n",
       "dtype: int64"
      ]
     },
     "execution_count": 140,
     "metadata": {},
     "output_type": "execute_result"
    }
   ],
   "source": [
    "gop_cvec = CountVectorizer(stop_words = stop)\n",
    "gop_title_vect = gop_cvec.fit_transform(df_gop['title'])\n",
    "gop_title_vect = pd.DataFrame(gop_title_vect.todense(), columns= gop_cvec.get_feature_names_out())\n",
    "\n",
    "gop_title_vect.sum().sort_values(ascending=False).head(20)"
   ]
  },
  {
   "cell_type": "code",
   "execution_count": 148,
   "id": "7f7acd35-ef45-4843-9b19-9cda6b1c61b7",
   "metadata": {},
   "outputs": [
    {
     "data": {
      "image/png": "[encoded data removed]",
      "text/plain": [
       "<Figure size 640x480 with 1 Axes>"
      ]
     },
     "metadata": {},
     "output_type": "display_data"
    }
   ],
   "source": [
    "gop_title_vect.sum().sort_values(ascending=False).head(15).plot(kind='barh', color = 'red')\n",
    "plt.xlabel('Frequency')\n",
    "plt.ylabel('Words')\n",
    "plt.title('GOP Top 15 Most Common Words');\n",
    "\n",
    "plt.savefig('./images/gop_most_words.png', bbox_inches='tight')"
   ]
  },
  {
   "cell_type": "markdown",
   "id": "88c4948b-7e8e-4fa7-a14e-2bc5701fe00e",
   "metadata": {},
   "source": [
    "Top 20 Dem Words"
   ]
  },
  {
   "cell_type": "code",
   "execution_count": 142,
   "id": "b7c506b8-74da-499c-94ba-e585aa098614",
   "metadata": {},
   "outputs": [
    {
     "data": {
      "text/plain": [
       "trump          262\n",
       "democrats      154\n",
       "house          129\n",
       "biden          127\n",
       "republicans    106\n",
       "gop             83\n",
       "republican      71\n",
       "speaker         71\n",
       "senate          70\n",
       "election        69\n",
       "new             68\n",
       "president       68\n",
       "first           57\n",
       "right           56\n",
       "mccarthy        55\n",
       "party           54\n",
       "vote            54\n",
       "democratic      52\n",
       "us              50\n",
       "says            49\n",
       "dtype: int64"
      ]
     },
     "execution_count": 142,
     "metadata": {},
     "output_type": "execute_result"
    }
   ],
   "source": [
    "dem_cvec = CountVectorizer(stop_words = stop)\n",
    "dem_title_vect = dem_cvec.fit_transform(df_dem['title'])\n",
    "dem_title_vect = pd.DataFrame(dem_title_vect.todense(), columns= dem_cvec.get_feature_names_out())\n",
    "\n",
    "dem_title_vect.sum().sort_values(ascending=False).head(20)"
   ]
  },
  {
   "cell_type": "code",
   "execution_count": 143,
   "id": "ecaceedc-53ed-4976-a6a8-6861b36d0139",
   "metadata": {},
   "outputs": [
    {
     "data": {
      "image/png": "[encoded data removed]",
      "text/plain": [
       "<Figure size 640x480 with 1 Axes>"
      ]
     },
     "metadata": {},
     "output_type": "display_data"
    }
   ],
   "source": [
    "dem_title_vect.sum().sort_values(ascending=False).head(15).plot(kind='barh', color = 'blue')\n",
    "plt.xlabel('Frequency')\n",
    "plt.ylabel('Words')\n",
    "plt.title('Dem Top 15 Most Common Words');\n",
    "\n",
    "plt.savefig('./images/dem_most_words.png', bbox_inches='tight')"
   ]
  },
  {
   "cell_type": "markdown",
   "id": "abcd0ca0-bac2-4398-b649-0574c920f17f",
   "metadata": {},
   "source": [
    "Top 20 GOP Two Word NGram"
   ]
  },
  {
   "cell_type": "code",
   "execution_count": 144,
   "id": "336f96ec-d0fb-4b81-b78e-5d97caec0325",
   "metadata": {},
   "outputs": [
    {
     "data": {
      "text/plain": [
       "elon musk                      59\n",
       "twitter files                  55\n",
       "donald trump                   47\n",
       "hunter biden                   44\n",
       "conservativenewsdaily net      31\n",
       "https conservativenewsdaily    31\n",
       "joe biden                      26\n",
       "white house                    23\n",
       "biden laptop                   18\n",
       "house speaker                  17\n",
       "social media                   17\n",
       "supreme court                  17\n",
       "biden admin                    17\n",
       "year old                       17\n",
       "kevin mccarthy                 17\n",
       "free speech                    16\n",
       "covid 19                       15\n",
       "house republicans              15\n",
       "ron desantis                   15\n",
       "kari lake                      14\n",
       "dtype: int64"
      ]
     },
     "execution_count": 144,
     "metadata": {},
     "output_type": "execute_result"
    }
   ],
   "source": [
    "gop_cvec_ngram = CountVectorizer(stop_words = stop, ngram_range=(2,2))\n",
    "gop_title_ngram = gop_cvec_ngram.fit_transform(df_gop['title'])\n",
    "gop_title_ngram = pd.DataFrame(gop_title_ngram.todense(), columns= gop_cvec_ngram.get_feature_names_out())\n",
    "\n",
    "gop_title_ngram.sum().sort_values(ascending=False).head(20)"
   ]
  },
  {
   "cell_type": "code",
   "execution_count": 151,
   "id": "e3d4ecfa-ca89-41a6-acdc-45e02f160daa",
   "metadata": {},
   "outputs": [
    {
     "data": {
      "image/png": "[encoded data removed]",
      "text/plain": [
       "<Figure size 640x480 with 1 Axes>"
      ]
     },
     "metadata": {},
     "output_type": "display_data"
    }
   ],
   "source": [
    "gop_title_ngram.sum().sort_values(ascending=False).head(15).plot(kind='barh', color = 'red')\n",
    "plt.xlabel('Frequency')\n",
    "plt.ylabel('Bi-Gram Words')\n",
    "plt.title('GOP Top 15 Most Common Bi-Gram Words');\n",
    "\n",
    "plt.savefig('./images/gop_most_bigram_words.png', bbox_inches='tight')"
   ]
  },
  {
   "cell_type": "markdown",
   "id": "46d3b89a-ab45-4f98-95fd-2e01f20d6b07",
   "metadata": {},
   "source": [
    "Top 20 Dem Two Word Ngram"
   ]
  },
  {
   "cell_type": "code",
   "execution_count": 110,
   "id": "434ffb31-fbd7-4d38-be3f-74dbe7f8451e",
   "metadata": {},
   "outputs": [
    {
     "data": {
      "text/plain": [
       "donald trump        35\n",
       "elon musk           30\n",
       "herschel walker     26\n",
       "supreme court       23\n",
       "cnn politics        22\n",
       "joe biden           22\n",
       "george santos       21\n",
       "white house         20\n",
       "kevin mccarthy      20\n",
       "right wing          14\n",
       "democratic party    14\n",
       "nancy pelosi        14\n",
       "kari lake           13\n",
       "president biden     13\n",
       "tax returns         13\n",
       "hakeem jeffries     12\n",
       "far right           11\n",
       "house speaker       11\n",
       "republican party    11\n",
       "trump tax           11\n",
       "dtype: int64"
      ]
     },
     "execution_count": 110,
     "metadata": {},
     "output_type": "execute_result"
    }
   ],
   "source": [
    "dem_cvec_ngram = CountVectorizer(stop_words = stop, ngram_range=(2,2))\n",
    "dem_title_ngram = dem_cvec_ngram.fit_transform(df_dem['title'])\n",
    "dem_title_ngram = pd.DataFrame(dem_title_ngram.todense(), columns= dem_cvec_ngram.get_feature_names_out())\n",
    "\n",
    "dem_title_ngram.sum().sort_values(ascending=False).head(20)"
   ]
  },
  {
   "cell_type": "code",
   "execution_count": 116,
   "id": "5f5d7440-19b2-4e0a-9e85-b8f074115192",
   "metadata": {},
   "outputs": [
    {
     "data": {
      "image/png": "[encoded data removed]",
      "text/plain": [
       "<Figure size 640x480 with 1 Axes>"
      ]
     },
     "metadata": {},
     "output_type": "display_data"
    }
   ],
   "source": [
    "dem_title_ngram.sum().sort_values(ascending=False).head(15).plot(kind='barh', color = 'blue')\n",
    "plt.xlabel('Frequency')\n",
    "plt.ylabel('Bi-Gram Words')\n",
    "plt.title('Dem Top 15 Most Common Bi-Gram Words');\n",
    "plt.savefig('./images/dem_most_bigram_words.png', bbox_inches='tight')"
   ]
  },
  {
   "cell_type": "markdown",
   "id": "66727e66-ec6a-4202-bd46-629b7ee1b06f",
   "metadata": {},
   "source": [
    "## Modeling"
   ]
  },
  {
   "cell_type": "code",
   "execution_count": 20,
   "id": "02bf14b0-3392-4d71-8e54-a99988053327",
   "metadata": {},
   "outputs": [],
   "source": [
    "X= df['title']\n",
    "y= df['subreddit']\n",
    "\n",
    "X_train, X_test, y_train, y_test = train_test_split(X,y,\n",
    "                                                    random_state=42,\n",
    "                                                    stratify = y)"
   ]
  },
  {
   "cell_type": "markdown",
   "id": "3026c52a-f303-453a-9bc4-4ec5a87b0272",
   "metadata": {},
   "source": [
    "Naive Bayes"
   ]
  },
  {
   "cell_type": "markdown",
   "id": "3fc6b2f0-1b7c-45f0-aec7-417343d5b4ee",
   "metadata": {},
   "source": [
    "- Highest Performing Model"
   ]
  },
  {
   "cell_type": "code",
   "execution_count": 21,
   "id": "d00c1d9f-382f-4114-b6ad-7833c2c5aeca",
   "metadata": {},
   "outputs": [],
   "source": [
    "nb_pipe = Pipeline([\n",
    "    ('tvec', TfidfVectorizer()),\n",
    "    ('nb', MultinomialNB())])"
   ]
  },
  {
   "cell_type": "code",
   "execution_count": 22,
   "id": "33e98a66-5037-4396-bd72-dfd588ec0764",
   "metadata": {},
   "outputs": [],
   "source": [
    "nb_pipe_params = {\n",
    "    'nb__alpha': [1, 1.5, 2],\n",
    "    'tvec__stop_words': [None, stopwords.words('english'), 'english'],\n",
    "    'tvec__max_features': [None, 5000],\n",
    "    'tvec__min_df': [0, .01,.03],\n",
    "    'tvec__max_df': [.30, .40, .50],\n",
    "    'tvec__ngram_range': [(1,1), (1,2), (1,3)]\n",
    "}"
   ]
  },
  {
   "cell_type": "code",
   "execution_count": 23,
   "id": "1e4266e3-da21-4ee9-9b44-57318a59e31a",
   "metadata": {},
   "outputs": [],
   "source": [
    "nb_gs = GridSearchCV(nb_pipe, param_grid = nb_pipe_params, n_jobs=-1)"
   ]
  },
  {
   "cell_type": "code",
   "execution_count": 24,
   "id": "e273a492-48ff-4e5e-91af-e2cfb3df2776",
   "metadata": {},
   "outputs": [
    {
     "data": {
      "text/html": [
       "<style>#sk-container-id-1 {color: black;background-color: white;}#sk-container-id-1 pre{padding: 0;}#sk-container-id-1 div.sk-toggleable {background-color: white;}#sk-container-id-1 label.sk-toggleable__label {cursor: pointer;display: block;width: 100%;margin-bottom: 0;padding: 0.3em;box-sizing: border-box;text-align: center;}#sk-container-id-1 label.sk-toggleable__label-arrow:before {content: \"▸\";float: left;margin-right: 0.25em;color: #696969;}#sk-container-id-1 label.sk-toggleable__label-arrow:hover:before {color: black;}#sk-container-id-1 div.sk-estimator:hover label.sk-toggleable__label-arrow:before {color: black;}#sk-container-id-1 div.sk-toggleable__content {max-height: 0;max-width: 0;overflow: hidden;text-align: left;background-color: #f0f8ff;}#sk-container-id-1 div.sk-toggleable__content pre {margin: 0.2em;color: black;border-radius: 0.25em;background-color: #f0f8ff;}#sk-container-id-1 input.sk-toggleable__control:checked~div.sk-toggleable__content {max-height: 200px;max-width: 100%;overflow: auto;}#sk-container-id-1 input.sk-toggleable__control:checked~label.sk-toggleable__label-arrow:before {content: \"▾\";}#sk-container-id-1 div.sk-estimator input.sk-toggleable__control:checked~label.sk-toggleable__label {background-color: #d4ebff;}#sk-container-id-1 div.sk-label input.sk-toggleable__control:checked~label.sk-toggleable__label {background-color: #d4ebff;}#sk-container-id-1 input.sk-hidden--visually {border: 0;clip: rect(1px 1px 1px 1px);clip: rect(1px, 1px, 1px, 1px);height: 1px;margin: -1px;overflow: hidden;padding: 0;position: absolute;width: 1px;}#sk-container-id-1 div.sk-estimator {font-family: monospace;background-color: #f0f8ff;border: 1px dotted black;border-radius: 0.25em;box-sizing: border-box;margin-bottom: 0.5em;}#sk-container-id-1 div.sk-estimator:hover {background-color: #d4ebff;}#sk-container-id-1 div.sk-parallel-item::after {content: \"\";width: 100%;border-bottom: 1px solid gray;flex-grow: 1;}#sk-container-id-1 div.sk-label:hover label.sk-toggleable__label {background-color: #d4ebff;}#sk-container-id-1 div.sk-serial::before {content: \"\";position: absolute;border-left: 1px solid gray;box-sizing: border-box;top: 0;bottom: 0;left: 50%;z-index: 0;}#sk-container-id-1 div.sk-serial {display: flex;flex-direction: column;align-items: center;background-color: white;padding-right: 0.2em;padding-left: 0.2em;position: relative;}#sk-container-id-1 div.sk-item {position: relative;z-index: 1;}#sk-container-id-1 div.sk-parallel {display: flex;align-items: stretch;justify-content: center;background-color: white;position: relative;}#sk-container-id-1 div.sk-item::before, #sk-container-id-1 div.sk-parallel-item::before {content: \"\";position: absolute;border-left: 1px solid gray;box-sizing: border-box;top: 0;bottom: 0;left: 50%;z-index: -1;}#sk-container-id-1 div.sk-parallel-item {display: flex;flex-direction: column;z-index: 1;position: relative;background-color: white;}#sk-container-id-1 div.sk-parallel-item:first-child::after {align-self: flex-end;width: 50%;}#sk-container-id-1 div.sk-parallel-item:last-child::after {align-self: flex-start;width: 50%;}#sk-container-id-1 div.sk-parallel-item:only-child::after {width: 0;}#sk-container-id-1 div.sk-dashed-wrapped {border: 1px dashed gray;margin: 0 0.4em 0.5em 0.4em;box-sizing: border-box;padding-bottom: 0.4em;background-color: white;}#sk-container-id-1 div.sk-label label {font-family: monospace;font-weight: bold;display: inline-block;line-height: 1.2em;}#sk-container-id-1 div.sk-label-container {text-align: center;}#sk-container-id-1 div.sk-container {/* jupyter's `normalize.less` sets `[hidden] { display: none; }` but bootstrap.min.css set `[hidden] { display: none !important; }` so we also need the `!important` here to be able to override the default hidden behavior on the sphinx rendered scikit-learn.org. See: https://github.com/scikit-learn/scikit-learn/issues/21755 */display: inline-block !important;position: relative;}#sk-container-id-1 div.sk-text-repr-fallback {display: none;}</style><div id=\"sk-container-id-1\" class=\"sk-top-container\"><div class=\"sk-text-repr-fallback\"><pre>GridSearchCV(estimator=Pipeline(steps=[(&#x27;tvec&#x27;, TfidfVectorizer()),\n",
       "                                       (&#x27;nb&#x27;, MultinomialNB())]),\n",
       "             n_jobs=-1,\n",
       "             param_grid={&#x27;nb__alpha&#x27;: [1, 1.5, 2],\n",
       "                         &#x27;tvec__max_df&#x27;: [0.3, 0.4, 0.5],\n",
       "                         &#x27;tvec__max_features&#x27;: [None, 5000],\n",
       "                         &#x27;tvec__min_df&#x27;: [0, 0.01, 0.03],\n",
       "                         &#x27;tvec__ngram_range&#x27;: [(1, 1), (1, 2), (1, 3)],\n",
       "                         &#x27;tvec__stop_words&#x27;: [None,\n",
       "                                              [&#x27;i&#x27;, &#x27;me&#x27;, &#x27;my&#x27;, &#x27;myself&#x27;, &#x27;we&#x27;,\n",
       "                                               &#x27;our&#x27;, &#x27;ours&#x27;, &#x27;ourselves&#x27;,\n",
       "                                               &#x27;you&#x27;, &quot;you&#x27;re&quot;, &quot;you&#x27;ve&quot;,\n",
       "                                               &quot;you&#x27;ll&quot;, &quot;you&#x27;d&quot;, &#x27;your&#x27;,\n",
       "                                               &#x27;yours&#x27;, &#x27;yourself&#x27;,\n",
       "                                               &#x27;yourselves&#x27;, &#x27;he&#x27;, &#x27;him&#x27;, &#x27;his&#x27;,\n",
       "                                               &#x27;himself&#x27;, &#x27;she&#x27;, &quot;she&#x27;s&quot;, &#x27;her&#x27;,\n",
       "                                               &#x27;hers&#x27;, &#x27;herself&#x27;, &#x27;it&#x27;, &quot;it&#x27;s&quot;,\n",
       "                                               &#x27;its&#x27;, &#x27;itself&#x27;, ...],\n",
       "                                              &#x27;english&#x27;]})</pre><b>In a Jupyter environment, please rerun this cell to show the HTML representation or trust the notebook. <br />On GitHub, the HTML representation is unable to render, please try loading this page with nbviewer.org.</b></div><div class=\"sk-container\" hidden><div class=\"sk-item sk-dashed-wrapped\"><div class=\"sk-label-container\"><div class=\"sk-label sk-toggleable\"><input class=\"sk-toggleable__control sk-hidden--visually\" id=\"sk-estimator-id-1\" type=\"checkbox\" ><label for=\"sk-estimator-id-1\" class=\"sk-toggleable__label sk-toggleable__label-arrow\">GridSearchCV</label><div class=\"sk-toggleable__content\"><pre>GridSearchCV(estimator=Pipeline(steps=[(&#x27;tvec&#x27;, TfidfVectorizer()),\n",
       "                                       (&#x27;nb&#x27;, MultinomialNB())]),\n",
       "             n_jobs=-1,\n",
       "             param_grid={&#x27;nb__alpha&#x27;: [1, 1.5, 2],\n",
       "                         &#x27;tvec__max_df&#x27;: [0.3, 0.4, 0.5],\n",
       "                         &#x27;tvec__max_features&#x27;: [None, 5000],\n",
       "                         &#x27;tvec__min_df&#x27;: [0, 0.01, 0.03],\n",
       "                         &#x27;tvec__ngram_range&#x27;: [(1, 1), (1, 2), (1, 3)],\n",
       "                         &#x27;tvec__stop_words&#x27;: [None,\n",
       "                                              [&#x27;i&#x27;, &#x27;me&#x27;, &#x27;my&#x27;, &#x27;myself&#x27;, &#x27;we&#x27;,\n",
       "                                               &#x27;our&#x27;, &#x27;ours&#x27;, &#x27;ourselves&#x27;,\n",
       "                                               &#x27;you&#x27;, &quot;you&#x27;re&quot;, &quot;you&#x27;ve&quot;,\n",
       "                                               &quot;you&#x27;ll&quot;, &quot;you&#x27;d&quot;, &#x27;your&#x27;,\n",
       "                                               &#x27;yours&#x27;, &#x27;yourself&#x27;,\n",
       "                                               &#x27;yourselves&#x27;, &#x27;he&#x27;, &#x27;him&#x27;, &#x27;his&#x27;,\n",
       "                                               &#x27;himself&#x27;, &#x27;she&#x27;, &quot;she&#x27;s&quot;, &#x27;her&#x27;,\n",
       "                                               &#x27;hers&#x27;, &#x27;herself&#x27;, &#x27;it&#x27;, &quot;it&#x27;s&quot;,\n",
       "                                               &#x27;its&#x27;, &#x27;itself&#x27;, ...],\n",
       "                                              &#x27;english&#x27;]})</pre></div></div></div><div class=\"sk-parallel\"><div class=\"sk-parallel-item\"><div class=\"sk-item\"><div class=\"sk-label-container\"><div class=\"sk-label sk-toggleable\"><input class=\"sk-toggleable__control sk-hidden--visually\" id=\"sk-estimator-id-2\" type=\"checkbox\" ><label for=\"sk-estimator-id-2\" class=\"sk-toggleable__label sk-toggleable__label-arrow\">estimator: Pipeline</label><div class=\"sk-toggleable__content\"><pre>Pipeline(steps=[(&#x27;tvec&#x27;, TfidfVectorizer()), (&#x27;nb&#x27;, MultinomialNB())])</pre></div></div></div><div class=\"sk-serial\"><div class=\"sk-item\"><div class=\"sk-serial\"><div class=\"sk-item\"><div class=\"sk-estimator sk-toggleable\"><input class=\"sk-toggleable__control sk-hidden--visually\" id=\"sk-estimator-id-3\" type=\"checkbox\" ><label for=\"sk-estimator-id-3\" class=\"sk-toggleable__label sk-toggleable__label-arrow\">TfidfVectorizer</label><div class=\"sk-toggleable__content\"><pre>TfidfVectorizer()</pre></div></div></div><div class=\"sk-item\"><div class=\"sk-estimator sk-toggleable\"><input class=\"sk-toggleable__control sk-hidden--visually\" id=\"sk-estimator-id-4\" type=\"checkbox\" ><label for=\"sk-estimator-id-4\" class=\"sk-toggleable__label sk-toggleable__label-arrow\">MultinomialNB</label><div class=\"sk-toggleable__content\"><pre>MultinomialNB()</pre></div></div></div></div></div></div></div></div></div></div></div></div>"
      ],
      "text/plain": [
       "GridSearchCV(estimator=Pipeline(steps=[('tvec', TfidfVectorizer()),\n",
       "                                       ('nb', MultinomialNB())]),\n",
       "             n_jobs=-1,\n",
       "             param_grid={'nb__alpha': [1, 1.5, 2],\n",
       "                         'tvec__max_df': [0.3, 0.4, 0.5],\n",
       "                         'tvec__max_features': [None, 5000],\n",
       "                         'tvec__min_df': [0, 0.01, 0.03],\n",
       "                         'tvec__ngram_range': [(1, 1), (1, 2), (1, 3)],\n",
       "                         'tvec__stop_words': [None,\n",
       "                                              ['i', 'me', 'my', 'myself', 'we',\n",
       "                                               'our', 'ours', 'ourselves',\n",
       "                                               'you', \"you're\", \"you've\",\n",
       "                                               \"you'll\", \"you'd\", 'your',\n",
       "                                               'yours', 'yourself',\n",
       "                                               'yourselves', 'he', 'him', 'his',\n",
       "                                               'himself', 'she', \"she's\", 'her',\n",
       "                                               'hers', 'herself', 'it', \"it's\",\n",
       "                                               'its', 'itself', ...],\n",
       "                                              'english']})"
      ]
     },
     "execution_count": 24,
     "metadata": {},
     "output_type": "execute_result"
    }
   ],
   "source": [
    "nb_gs.fit(X_train, y_train)"
   ]
  },
  {
   "cell_type": "code",
   "execution_count": 25,
   "id": "9de23ffe-c066-4c85-895f-8211e9825b68",
   "metadata": {},
   "outputs": [
    {
     "data": {
      "text/plain": [
       "0.9603333333333334"
      ]
     },
     "execution_count": 25,
     "metadata": {},
     "output_type": "execute_result"
    }
   ],
   "source": [
    "nb_gs.score(X_train, y_train)"
   ]
  },
  {
   "cell_type": "code",
   "execution_count": 26,
   "id": "cbce5648-f9b4-4ba9-9582-49563798a366",
   "metadata": {},
   "outputs": [
    {
     "data": {
      "text/plain": [
       "0.689"
      ]
     },
     "execution_count": 26,
     "metadata": {},
     "output_type": "execute_result"
    }
   ],
   "source": [
    "nb_gs.score(X_test, y_test)"
   ]
  },
  {
   "cell_type": "code",
   "execution_count": 27,
   "id": "4349036d-d49f-4442-b52f-e51e0e584581",
   "metadata": {},
   "outputs": [
    {
     "data": {
      "text/plain": [
       "democrats     0.5\n",
       "republican    0.5\n",
       "Name: subreddit, dtype: float64"
      ]
     },
     "execution_count": 27,
     "metadata": {},
     "output_type": "execute_result"
    }
   ],
   "source": [
    "y_train.value_counts(normalize=True)"
   ]
  },
  {
   "cell_type": "code",
   "execution_count": 36,
   "id": "7abcf95f-4028-4fb5-820b-f6c371dfe198",
   "metadata": {},
   "outputs": [
    {
     "data": {
      "text/plain": [
       "{'nb__alpha': 2,\n",
       " 'tvec__max_df': 0.3,\n",
       " 'tvec__max_features': None,\n",
       " 'tvec__min_df': 0,\n",
       " 'tvec__ngram_range': (1, 2),\n",
       " 'tvec__stop_words': 'english'}"
      ]
     },
     "execution_count": 36,
     "metadata": {},
     "output_type": "execute_result"
    }
   ],
   "source": [
    "nb_gs.best_params_"
   ]
  },
  {
   "cell_type": "code",
   "execution_count": 65,
   "id": "b76b1157-ad99-479a-9798-915becc8e72f",
   "metadata": {},
   "outputs": [],
   "source": [
    "# Best Params\n",
    "nb_pipe1 = Pipeline([\n",
    "    ('tvec', TfidfVectorizer()),\n",
    "    ('nb', MultinomialNB())\n",
    "])\n",
    "\n",
    "nb_pipe1_params = {\n",
    "    'nb__alpha': [2],\n",
    "    'tvec__stop_words': ['english'],\n",
    "    'tvec__max_features': [None],\n",
    "    'tvec__min_df': [0],\n",
    "    'tvec__max_df': [.3],\n",
    "    'tvec__ngram_range': [(1,2)]\n",
    "}"
   ]
  },
  {
   "cell_type": "code",
   "execution_count": 66,
   "id": "09426a3c-1801-4e60-962f-00b4460d972c",
   "metadata": {},
   "outputs": [],
   "source": [
    "nb_gs1 = GridSearchCV(nb_pipe1, param_grid = nb_pipe1_params, n_jobs=-1)"
   ]
  },
  {
   "cell_type": "code",
   "execution_count": 67,
   "id": "7207e5b5-7431-4dee-b8a2-a623ead54f43",
   "metadata": {},
   "outputs": [
    {
     "data": {
      "text/html": [
       "<style>#sk-container-id-2 {color: black;background-color: white;}#sk-container-id-2 pre{padding: 0;}#sk-container-id-2 div.sk-toggleable {background-color: white;}#sk-container-id-2 label.sk-toggleable__label {cursor: pointer;display: block;width: 100%;margin-bottom: 0;padding: 0.3em;box-sizing: border-box;text-align: center;}#sk-container-id-2 label.sk-toggleable__label-arrow:before {content: \"▸\";float: left;margin-right: 0.25em;color: #696969;}#sk-container-id-2 label.sk-toggleable__label-arrow:hover:before {color: black;}#sk-container-id-2 div.sk-estimator:hover label.sk-toggleable__label-arrow:before {color: black;}#sk-container-id-2 div.sk-toggleable__content {max-height: 0;max-width: 0;overflow: hidden;text-align: left;background-color: #f0f8ff;}#sk-container-id-2 div.sk-toggleable__content pre {margin: 0.2em;color: black;border-radius: 0.25em;background-color: #f0f8ff;}#sk-container-id-2 input.sk-toggleable__control:checked~div.sk-toggleable__content {max-height: 200px;max-width: 100%;overflow: auto;}#sk-container-id-2 input.sk-toggleable__control:checked~label.sk-toggleable__label-arrow:before {content: \"▾\";}#sk-container-id-2 div.sk-estimator input.sk-toggleable__control:checked~label.sk-toggleable__label {background-color: #d4ebff;}#sk-container-id-2 div.sk-label input.sk-toggleable__control:checked~label.sk-toggleable__label {background-color: #d4ebff;}#sk-container-id-2 input.sk-hidden--visually {border: 0;clip: rect(1px 1px 1px 1px);clip: rect(1px, 1px, 1px, 1px);height: 1px;margin: -1px;overflow: hidden;padding: 0;position: absolute;width: 1px;}#sk-container-id-2 div.sk-estimator {font-family: monospace;background-color: #f0f8ff;border: 1px dotted black;border-radius: 0.25em;box-sizing: border-box;margin-bottom: 0.5em;}#sk-container-id-2 div.sk-estimator:hover {background-color: #d4ebff;}#sk-container-id-2 div.sk-parallel-item::after {content: \"\";width: 100%;border-bottom: 1px solid gray;flex-grow: 1;}#sk-container-id-2 div.sk-label:hover label.sk-toggleable__label {background-color: #d4ebff;}#sk-container-id-2 div.sk-serial::before {content: \"\";position: absolute;border-left: 1px solid gray;box-sizing: border-box;top: 0;bottom: 0;left: 50%;z-index: 0;}#sk-container-id-2 div.sk-serial {display: flex;flex-direction: column;align-items: center;background-color: white;padding-right: 0.2em;padding-left: 0.2em;position: relative;}#sk-container-id-2 div.sk-item {position: relative;z-index: 1;}#sk-container-id-2 div.sk-parallel {display: flex;align-items: stretch;justify-content: center;background-color: white;position: relative;}#sk-container-id-2 div.sk-item::before, #sk-container-id-2 div.sk-parallel-item::before {content: \"\";position: absolute;border-left: 1px solid gray;box-sizing: border-box;top: 0;bottom: 0;left: 50%;z-index: -1;}#sk-container-id-2 div.sk-parallel-item {display: flex;flex-direction: column;z-index: 1;position: relative;background-color: white;}#sk-container-id-2 div.sk-parallel-item:first-child::after {align-self: flex-end;width: 50%;}#sk-container-id-2 div.sk-parallel-item:last-child::after {align-self: flex-start;width: 50%;}#sk-container-id-2 div.sk-parallel-item:only-child::after {width: 0;}#sk-container-id-2 div.sk-dashed-wrapped {border: 1px dashed gray;margin: 0 0.4em 0.5em 0.4em;box-sizing: border-box;padding-bottom: 0.4em;background-color: white;}#sk-container-id-2 div.sk-label label {font-family: monospace;font-weight: bold;display: inline-block;line-height: 1.2em;}#sk-container-id-2 div.sk-label-container {text-align: center;}#sk-container-id-2 div.sk-container {/* jupyter's `normalize.less` sets `[hidden] { display: none; }` but bootstrap.min.css set `[hidden] { display: none !important; }` so we also need the `!important` here to be able to override the default hidden behavior on the sphinx rendered scikit-learn.org. See: https://github.com/scikit-learn/scikit-learn/issues/21755 */display: inline-block !important;position: relative;}#sk-container-id-2 div.sk-text-repr-fallback {display: none;}</style><div id=\"sk-container-id-2\" class=\"sk-top-container\"><div class=\"sk-text-repr-fallback\"><pre>GridSearchCV(estimator=Pipeline(steps=[(&#x27;tvec&#x27;, TfidfVectorizer()),\n",
       "                                       (&#x27;nb&#x27;, MultinomialNB())]),\n",
       "             n_jobs=-1,\n",
       "             param_grid={&#x27;nb__alpha&#x27;: [2], &#x27;tvec__max_df&#x27;: [0.3],\n",
       "                         &#x27;tvec__max_features&#x27;: [None], &#x27;tvec__min_df&#x27;: [0],\n",
       "                         &#x27;tvec__ngram_range&#x27;: [(1, 2)],\n",
       "                         &#x27;tvec__stop_words&#x27;: [&#x27;english&#x27;]})</pre><b>In a Jupyter environment, please rerun this cell to show the HTML representation or trust the notebook. <br />On GitHub, the HTML representation is unable to render, please try loading this page with nbviewer.org.</b></div><div class=\"sk-container\" hidden><div class=\"sk-item sk-dashed-wrapped\"><div class=\"sk-label-container\"><div class=\"sk-label sk-toggleable\"><input class=\"sk-toggleable__control sk-hidden--visually\" id=\"sk-estimator-id-5\" type=\"checkbox\" ><label for=\"sk-estimator-id-5\" class=\"sk-toggleable__label sk-toggleable__label-arrow\">GridSearchCV</label><div class=\"sk-toggleable__content\"><pre>GridSearchCV(estimator=Pipeline(steps=[(&#x27;tvec&#x27;, TfidfVectorizer()),\n",
       "                                       (&#x27;nb&#x27;, MultinomialNB())]),\n",
       "             n_jobs=-1,\n",
       "             param_grid={&#x27;nb__alpha&#x27;: [2], &#x27;tvec__max_df&#x27;: [0.3],\n",
       "                         &#x27;tvec__max_features&#x27;: [None], &#x27;tvec__min_df&#x27;: [0],\n",
       "                         &#x27;tvec__ngram_range&#x27;: [(1, 2)],\n",
       "                         &#x27;tvec__stop_words&#x27;: [&#x27;english&#x27;]})</pre></div></div></div><div class=\"sk-parallel\"><div class=\"sk-parallel-item\"><div class=\"sk-item\"><div class=\"sk-label-container\"><div class=\"sk-label sk-toggleable\"><input class=\"sk-toggleable__control sk-hidden--visually\" id=\"sk-estimator-id-6\" type=\"checkbox\" ><label for=\"sk-estimator-id-6\" class=\"sk-toggleable__label sk-toggleable__label-arrow\">estimator: Pipeline</label><div class=\"sk-toggleable__content\"><pre>Pipeline(steps=[(&#x27;tvec&#x27;, TfidfVectorizer()), (&#x27;nb&#x27;, MultinomialNB())])</pre></div></div></div><div class=\"sk-serial\"><div class=\"sk-item\"><div class=\"sk-serial\"><div class=\"sk-item\"><div class=\"sk-estimator sk-toggleable\"><input class=\"sk-toggleable__control sk-hidden--visually\" id=\"sk-estimator-id-7\" type=\"checkbox\" ><label for=\"sk-estimator-id-7\" class=\"sk-toggleable__label sk-toggleable__label-arrow\">TfidfVectorizer</label><div class=\"sk-toggleable__content\"><pre>TfidfVectorizer()</pre></div></div></div><div class=\"sk-item\"><div class=\"sk-estimator sk-toggleable\"><input class=\"sk-toggleable__control sk-hidden--visually\" id=\"sk-estimator-id-8\" type=\"checkbox\" ><label for=\"sk-estimator-id-8\" class=\"sk-toggleable__label sk-toggleable__label-arrow\">MultinomialNB</label><div class=\"sk-toggleable__content\"><pre>MultinomialNB()</pre></div></div></div></div></div></div></div></div></div></div></div></div>"
      ],
      "text/plain": [
       "GridSearchCV(estimator=Pipeline(steps=[('tvec', TfidfVectorizer()),\n",
       "                                       ('nb', MultinomialNB())]),\n",
       "             n_jobs=-1,\n",
       "             param_grid={'nb__alpha': [2], 'tvec__max_df': [0.3],\n",
       "                         'tvec__max_features': [None], 'tvec__min_df': [0],\n",
       "                         'tvec__ngram_range': [(1, 2)],\n",
       "                         'tvec__stop_words': ['english']})"
      ]
     },
     "execution_count": 67,
     "metadata": {},
     "output_type": "execute_result"
    }
   ],
   "source": [
    "nb_gs1.fit(X_train, y_train)"
   ]
  },
  {
   "cell_type": "code",
   "execution_count": 68,
   "id": "be60bb9b-4068-41fb-ac00-c8e62c5b6d3f",
   "metadata": {},
   "outputs": [
    {
     "data": {
      "text/plain": [
       "0.9603333333333334"
      ]
     },
     "execution_count": 68,
     "metadata": {},
     "output_type": "execute_result"
    }
   ],
   "source": [
    "nb_gs1.score(X_train, y_train)"
   ]
  },
  {
   "cell_type": "code",
   "execution_count": 69,
   "id": "71d011db-7f0e-4560-9666-c55787b696a7",
   "metadata": {},
   "outputs": [
    {
     "data": {
      "text/plain": [
       "0.689"
      ]
     },
     "execution_count": 69,
     "metadata": {},
     "output_type": "execute_result"
    }
   ],
   "source": [
    "nb_gs1.score(X_test, y_test)"
   ]
  },
  {
   "cell_type": "code",
   "execution_count": 70,
   "id": "57883ed3-dd97-47f8-bd8d-56be3ec76df3",
   "metadata": {},
   "outputs": [
    {
     "data": {
      "text/plain": [
       "array([0.685     , 0.65666667, 0.67833333, 0.68166667, 0.66      ])"
      ]
     },
     "execution_count": 70,
     "metadata": {},
     "output_type": "execute_result"
    }
   ],
   "source": [
    "cross_val_score(nb_gs1, X_train, y_train)"
   ]
  },
  {
   "cell_type": "code",
   "execution_count": 71,
   "id": "b127a708-38ca-469a-9c2b-0d995979c9b7",
   "metadata": {},
   "outputs": [
    {
     "data": {
      "text/plain": [
       "array([0.59 , 0.69 , 0.625, 0.635, 0.675])"
      ]
     },
     "execution_count": 71,
     "metadata": {},
     "output_type": "execute_result"
    }
   ],
   "source": [
    "cross_val_score(nb_gs1, X_test, y_test)"
   ]
  },
  {
   "cell_type": "code",
   "execution_count": null,
   "id": "48a165cd-0bad-4ffe-a249-a129018c159c",
   "metadata": {},
   "outputs": [],
   "source": [
    "feature_log_prob_"
   ]
  },
  {
   "cell_type": "markdown",
   "id": "8e0b486c-72cc-4957-a6ea-939d97f0ae71",
   "metadata": {},
   "source": [
    "kNN Classifer"
   ]
  },
  {
   "cell_type": "code",
   "execution_count": null,
   "id": "00fe978b-b448-4628-9538-7e85ad5b2faf",
   "metadata": {},
   "outputs": [],
   "source": []
  },
  {
   "cell_type": "code",
   "execution_count": 725,
   "id": "f58dce23-989a-4dfe-82be-67310baffd93",
   "metadata": {},
   "outputs": [],
   "source": [
    "knn_pipe = Pipeline([\n",
    "    ('cvec', CountVectorizer()),\n",
    "    ('ss', StandardScaler(with_mean=False)),\n",
    "    ('knn', KNeighborsClassifier())\n",
    "])"
   ]
  },
  {
   "cell_type": "code",
   "execution_count": 732,
   "id": "ff025dbb-3d7b-4c81-a632-18f517424e9a",
   "metadata": {},
   "outputs": [],
   "source": [
    "knn_pipe_params = {\n",
    "    'knn__n_neighbors':[7,8,9],\n",
    "    'cvec__stop_words': [None, stopwords.words('english'), 'english'],\n",
    "    'cvec__max_features': [50, 100, 150],\n",
    "    'cvec__min_df': [.01],\n",
    "    'cvec__max_df': [.3, .4, .5],\n",
    "    'cvec__ngram_range': [(1, 1), (1,2)]\n",
    "}"
   ]
  },
  {
   "cell_type": "code",
   "execution_count": 733,
   "id": "f801b951-529c-4edb-8c68-e34935a7c805",
   "metadata": {},
   "outputs": [],
   "source": [
    "knn_gs = GridSearchCV(knn_pipe, param_grid = knn_pipe_params, n_jobs=-1)"
   ]
  },
  {
   "cell_type": "code",
   "execution_count": 734,
   "id": "934f18fa-815e-4926-8fb6-bf5406c0e2e8",
   "metadata": {},
   "outputs": [
    {
     "data": {
      "text/html": [
       "<style>#sk-container-id-89 {color: black;background-color: white;}#sk-container-id-89 pre{padding: 0;}#sk-container-id-89 div.sk-toggleable {background-color: white;}#sk-container-id-89 label.sk-toggleable__label {cursor: pointer;display: block;width: 100%;margin-bottom: 0;padding: 0.3em;box-sizing: border-box;text-align: center;}#sk-container-id-89 label.sk-toggleable__label-arrow:before {content: \"▸\";float: left;margin-right: 0.25em;color: #696969;}#sk-container-id-89 label.sk-toggleable__label-arrow:hover:before {color: black;}#sk-container-id-89 div.sk-estimator:hover label.sk-toggleable__label-arrow:before {color: black;}#sk-container-id-89 div.sk-toggleable__content {max-height: 0;max-width: 0;overflow: hidden;text-align: left;background-color: #f0f8ff;}#sk-container-id-89 div.sk-toggleable__content pre {margin: 0.2em;color: black;border-radius: 0.25em;background-color: #f0f8ff;}#sk-container-id-89 input.sk-toggleable__control:checked~div.sk-toggleable__content {max-height: 200px;max-width: 100%;overflow: auto;}#sk-container-id-89 input.sk-toggleable__control:checked~label.sk-toggleable__label-arrow:before {content: \"▾\";}#sk-container-id-89 div.sk-estimator input.sk-toggleable__control:checked~label.sk-toggleable__label {background-color: #d4ebff;}#sk-container-id-89 div.sk-label input.sk-toggleable__control:checked~label.sk-toggleable__label {background-color: #d4ebff;}#sk-container-id-89 input.sk-hidden--visually {border: 0;clip: rect(1px 1px 1px 1px);clip: rect(1px, 1px, 1px, 1px);height: 1px;margin: -1px;overflow: hidden;padding: 0;position: absolute;width: 1px;}#sk-container-id-89 div.sk-estimator {font-family: monospace;background-color: #f0f8ff;border: 1px dotted black;border-radius: 0.25em;box-sizing: border-box;margin-bottom: 0.5em;}#sk-container-id-89 div.sk-estimator:hover {background-color: #d4ebff;}#sk-container-id-89 div.sk-parallel-item::after {content: \"\";width: 100%;border-bottom: 1px solid gray;flex-grow: 1;}#sk-container-id-89 div.sk-label:hover label.sk-toggleable__label {background-color: #d4ebff;}#sk-container-id-89 div.sk-serial::before {content: \"\";position: absolute;border-left: 1px solid gray;box-sizing: border-box;top: 0;bottom: 0;left: 50%;z-index: 0;}#sk-container-id-89 div.sk-serial {display: flex;flex-direction: column;align-items: center;background-color: white;padding-right: 0.2em;padding-left: 0.2em;position: relative;}#sk-container-id-89 div.sk-item {position: relative;z-index: 1;}#sk-container-id-89 div.sk-parallel {display: flex;align-items: stretch;justify-content: center;background-color: white;position: relative;}#sk-container-id-89 div.sk-item::before, #sk-container-id-89 div.sk-parallel-item::before {content: \"\";position: absolute;border-left: 1px solid gray;box-sizing: border-box;top: 0;bottom: 0;left: 50%;z-index: -1;}#sk-container-id-89 div.sk-parallel-item {display: flex;flex-direction: column;z-index: 1;position: relative;background-color: white;}#sk-container-id-89 div.sk-parallel-item:first-child::after {align-self: flex-end;width: 50%;}#sk-container-id-89 div.sk-parallel-item:last-child::after {align-self: flex-start;width: 50%;}#sk-container-id-89 div.sk-parallel-item:only-child::after {width: 0;}#sk-container-id-89 div.sk-dashed-wrapped {border: 1px dashed gray;margin: 0 0.4em 0.5em 0.4em;box-sizing: border-box;padding-bottom: 0.4em;background-color: white;}#sk-container-id-89 div.sk-label label {font-family: monospace;font-weight: bold;display: inline-block;line-height: 1.2em;}#sk-container-id-89 div.sk-label-container {text-align: center;}#sk-container-id-89 div.sk-container {/* jupyter's `normalize.less` sets `[hidden] { display: none; }` but bootstrap.min.css set `[hidden] { display: none !important; }` so we also need the `!important` here to be able to override the default hidden behavior on the sphinx rendered scikit-learn.org. See: https://github.com/scikit-learn/scikit-learn/issues/21755 */display: inline-block !important;position: relative;}#sk-container-id-89 div.sk-text-repr-fallback {display: none;}</style><div id=\"sk-container-id-89\" class=\"sk-top-container\"><div class=\"sk-text-repr-fallback\"><pre>GridSearchCV(estimator=Pipeline(steps=[(&#x27;cvec&#x27;, CountVectorizer()),\n",
       "                                       (&#x27;ss&#x27;, StandardScaler(with_mean=False)),\n",
       "                                       (&#x27;knn&#x27;, KNeighborsClassifier())]),\n",
       "             n_jobs=-1,\n",
       "             param_grid={&#x27;cvec__max_df&#x27;: [0.3, 0.4, 0.5],\n",
       "                         &#x27;cvec__max_features&#x27;: [50, 100, 150],\n",
       "                         &#x27;cvec__min_df&#x27;: [0.01],\n",
       "                         &#x27;cvec__ngram_range&#x27;: [(1, 1), (1, 2)],\n",
       "                         &#x27;cvec__stop_words&#x27;: [None,\n",
       "                                              [&#x27;i&#x27;, &#x27;me&#x27;, &#x27;my&#x27;, &#x27;myself&#x27;, &#x27;we&#x27;,\n",
       "                                               &#x27;our&#x27;, &#x27;ours&#x27;, &#x27;ourselves&#x27;,\n",
       "                                               &#x27;you&#x27;, &quot;you&#x27;re&quot;, &quot;you&#x27;ve&quot;,\n",
       "                                               &quot;you&#x27;ll&quot;, &quot;you&#x27;d&quot;, &#x27;your&#x27;,\n",
       "                                               &#x27;yours&#x27;, &#x27;yourself&#x27;,\n",
       "                                               &#x27;yourselves&#x27;, &#x27;he&#x27;, &#x27;him&#x27;, &#x27;his&#x27;,\n",
       "                                               &#x27;himself&#x27;, &#x27;she&#x27;, &quot;she&#x27;s&quot;, &#x27;her&#x27;,\n",
       "                                               &#x27;hers&#x27;, &#x27;herself&#x27;, &#x27;it&#x27;, &quot;it&#x27;s&quot;,\n",
       "                                               &#x27;its&#x27;, &#x27;itself&#x27;, ...],\n",
       "                                              &#x27;english&#x27;],\n",
       "                         &#x27;knn__n_neighbors&#x27;: [7, 8, 9]})</pre><b>In a Jupyter environment, please rerun this cell to show the HTML representation or trust the notebook. <br />On GitHub, the HTML representation is unable to render, please try loading this page with nbviewer.org.</b></div><div class=\"sk-container\" hidden><div class=\"sk-item sk-dashed-wrapped\"><div class=\"sk-label-container\"><div class=\"sk-label sk-toggleable\"><input class=\"sk-toggleable__control sk-hidden--visually\" id=\"sk-estimator-id-432\" type=\"checkbox\" ><label for=\"sk-estimator-id-432\" class=\"sk-toggleable__label sk-toggleable__label-arrow\">GridSearchCV</label><div class=\"sk-toggleable__content\"><pre>GridSearchCV(estimator=Pipeline(steps=[(&#x27;cvec&#x27;, CountVectorizer()),\n",
       "                                       (&#x27;ss&#x27;, StandardScaler(with_mean=False)),\n",
       "                                       (&#x27;knn&#x27;, KNeighborsClassifier())]),\n",
       "             n_jobs=-1,\n",
       "             param_grid={&#x27;cvec__max_df&#x27;: [0.3, 0.4, 0.5],\n",
       "                         &#x27;cvec__max_features&#x27;: [50, 100, 150],\n",
       "                         &#x27;cvec__min_df&#x27;: [0.01],\n",
       "                         &#x27;cvec__ngram_range&#x27;: [(1, 1), (1, 2)],\n",
       "                         &#x27;cvec__stop_words&#x27;: [None,\n",
       "                                              [&#x27;i&#x27;, &#x27;me&#x27;, &#x27;my&#x27;, &#x27;myself&#x27;, &#x27;we&#x27;,\n",
       "                                               &#x27;our&#x27;, &#x27;ours&#x27;, &#x27;ourselves&#x27;,\n",
       "                                               &#x27;you&#x27;, &quot;you&#x27;re&quot;, &quot;you&#x27;ve&quot;,\n",
       "                                               &quot;you&#x27;ll&quot;, &quot;you&#x27;d&quot;, &#x27;your&#x27;,\n",
       "                                               &#x27;yours&#x27;, &#x27;yourself&#x27;,\n",
       "                                               &#x27;yourselves&#x27;, &#x27;he&#x27;, &#x27;him&#x27;, &#x27;his&#x27;,\n",
       "                                               &#x27;himself&#x27;, &#x27;she&#x27;, &quot;she&#x27;s&quot;, &#x27;her&#x27;,\n",
       "                                               &#x27;hers&#x27;, &#x27;herself&#x27;, &#x27;it&#x27;, &quot;it&#x27;s&quot;,\n",
       "                                               &#x27;its&#x27;, &#x27;itself&#x27;, ...],\n",
       "                                              &#x27;english&#x27;],\n",
       "                         &#x27;knn__n_neighbors&#x27;: [7, 8, 9]})</pre></div></div></div><div class=\"sk-parallel\"><div class=\"sk-parallel-item\"><div class=\"sk-item\"><div class=\"sk-label-container\"><div class=\"sk-label sk-toggleable\"><input class=\"sk-toggleable__control sk-hidden--visually\" id=\"sk-estimator-id-433\" type=\"checkbox\" ><label for=\"sk-estimator-id-433\" class=\"sk-toggleable__label sk-toggleable__label-arrow\">estimator: Pipeline</label><div class=\"sk-toggleable__content\"><pre>Pipeline(steps=[(&#x27;cvec&#x27;, CountVectorizer()),\n",
       "                (&#x27;ss&#x27;, StandardScaler(with_mean=False)),\n",
       "                (&#x27;knn&#x27;, KNeighborsClassifier())])</pre></div></div></div><div class=\"sk-serial\"><div class=\"sk-item\"><div class=\"sk-serial\"><div class=\"sk-item\"><div class=\"sk-estimator sk-toggleable\"><input class=\"sk-toggleable__control sk-hidden--visually\" id=\"sk-estimator-id-434\" type=\"checkbox\" ><label for=\"sk-estimator-id-434\" class=\"sk-toggleable__label sk-toggleable__label-arrow\">CountVectorizer</label><div class=\"sk-toggleable__content\"><pre>CountVectorizer()</pre></div></div></div><div class=\"sk-item\"><div class=\"sk-estimator sk-toggleable\"><input class=\"sk-toggleable__control sk-hidden--visually\" id=\"sk-estimator-id-435\" type=\"checkbox\" ><label for=\"sk-estimator-id-435\" class=\"sk-toggleable__label sk-toggleable__label-arrow\">StandardScaler</label><div class=\"sk-toggleable__content\"><pre>StandardScaler(with_mean=False)</pre></div></div></div><div class=\"sk-item\"><div class=\"sk-estimator sk-toggleable\"><input class=\"sk-toggleable__control sk-hidden--visually\" id=\"sk-estimator-id-436\" type=\"checkbox\" ><label for=\"sk-estimator-id-436\" class=\"sk-toggleable__label sk-toggleable__label-arrow\">KNeighborsClassifier</label><div class=\"sk-toggleable__content\"><pre>KNeighborsClassifier()</pre></div></div></div></div></div></div></div></div></div></div></div></div>"
      ],
      "text/plain": [
       "GridSearchCV(estimator=Pipeline(steps=[('cvec', CountVectorizer()),\n",
       "                                       ('ss', StandardScaler(with_mean=False)),\n",
       "                                       ('knn', KNeighborsClassifier())]),\n",
       "             n_jobs=-1,\n",
       "             param_grid={'cvec__max_df': [0.3, 0.4, 0.5],\n",
       "                         'cvec__max_features': [50, 100, 150],\n",
       "                         'cvec__min_df': [0.01],\n",
       "                         'cvec__ngram_range': [(1, 1), (1, 2)],\n",
       "                         'cvec__stop_words': [None,\n",
       "                                              ['i', 'me', 'my', 'myself', 'we',\n",
       "                                               'our', 'ours', 'ourselves',\n",
       "                                               'you', \"you're\", \"you've\",\n",
       "                                               \"you'll\", \"you'd\", 'your',\n",
       "                                               'yours', 'yourself',\n",
       "                                               'yourselves', 'he', 'him', 'his',\n",
       "                                               'himself', 'she', \"she's\", 'her',\n",
       "                                               'hers', 'herself', 'it', \"it's\",\n",
       "                                               'its', 'itself', ...],\n",
       "                                              'english'],\n",
       "                         'knn__n_neighbors': [7, 8, 9]})"
      ]
     },
     "execution_count": 734,
     "metadata": {},
     "output_type": "execute_result"
    }
   ],
   "source": [
    "knn_gs.fit(X_train, y_train)"
   ]
  },
  {
   "cell_type": "code",
   "execution_count": 735,
   "id": "efd4d6f2-3400-4e09-a440-7e4acd89c10e",
   "metadata": {},
   "outputs": [
    {
     "data": {
      "text/plain": [
       "0.616"
      ]
     },
     "execution_count": 735,
     "metadata": {},
     "output_type": "execute_result"
    }
   ],
   "source": [
    "knn_gs.score(X_test, y_test)"
   ]
  },
  {
   "cell_type": "code",
   "execution_count": 736,
   "id": "9d43d151-cedf-4436-b442-589f13686337",
   "metadata": {},
   "outputs": [
    {
     "data": {
      "text/plain": [
       "0.6663333333333333"
      ]
     },
     "execution_count": 736,
     "metadata": {},
     "output_type": "execute_result"
    }
   ],
   "source": [
    "knn_gs.score(X_train, y_train)"
   ]
  },
  {
   "cell_type": "code",
   "execution_count": 737,
   "id": "c3fcd014-5d92-41fb-834e-9974a64b7402",
   "metadata": {
    "scrolled": true,
    "tags": []
   },
   "outputs": [
    {
     "data": {
      "text/plain": [
       "{'cvec__max_df': 0.3,\n",
       " 'cvec__max_features': 100,\n",
       " 'cvec__min_df': 0.01,\n",
       " 'cvec__ngram_range': (1, 1),\n",
       " 'cvec__stop_words': 'english',\n",
       " 'knn__n_neighbors': 8}"
      ]
     },
     "execution_count": 737,
     "metadata": {},
     "output_type": "execute_result"
    }
   ],
   "source": [
    "knn_gs.best_params_"
   ]
  },
  {
   "cell_type": "markdown",
   "id": "a55cbac0-8dcf-46b1-b5b6-d30738f18946",
   "metadata": {},
   "source": [
    "Random Forrest"
   ]
  },
  {
   "cell_type": "markdown",
   "id": "54185d3f-6b4b-4015-83e8-5d7ac48951d4",
   "metadata": {},
   "source": [
    "- max features kept lowering and maximized at 200\n",
    "- min df lowered to .01\n",
    "- max depth maxmized at 8\n",
    "- cvec .585 test and .658 train\n",
    "- tvec raised it to .614 test and .682 train"
   ]
  },
  {
   "cell_type": "code",
   "execution_count": 738,
   "id": "2fef9735-e7e5-40af-ab75-c9cff85f0f64",
   "metadata": {},
   "outputs": [],
   "source": [
    "rf_pipe = Pipeline([\n",
    "    ('tvec', TfidfVectorizer()),\n",
    "    ('rf', RandomForestClassifier())\n",
    "])"
   ]
  },
  {
   "cell_type": "code",
   "execution_count": 753,
   "id": "459b5e60-6d0c-4da9-8d12-a398faff1d02",
   "metadata": {},
   "outputs": [],
   "source": [
    "\n",
    "rf_pipe_params = {\n",
    "'tvec__stop_words': [None, stopwords.words('english'), 'english'],\n",
    "    'tvec__max_features': [50, 100, 150],\n",
    "    'tvec__min_df': [.01],\n",
    "    'tvec__max_df': [.3, .4, .5],\n",
    "    'tvec__ngram_range': [(1,1), (1,2)],\n",
    "\n",
    "    'rf__n_estimators': [50, 100, 150],\n",
    "    'rf__max_depth': [7, 8 , 9],\n",
    "    'rf__min_samples_leaf': [1],\n",
    "    'rf__random_state': [42]\n",
    "}"
   ]
  },
  {
   "cell_type": "code",
   "execution_count": 754,
   "id": "6b0fca6c-61b4-4453-a252-9fb1a4ac396b",
   "metadata": {},
   "outputs": [],
   "source": [
    "rf_gs = GridSearchCV(rf_pipe, param_grid = rf_pipe_params, n_jobs=-1)"
   ]
  },
  {
   "cell_type": "code",
   "execution_count": 755,
   "id": "6df08c0b-df33-467a-9b17-eee19de92614",
   "metadata": {
    "scrolled": true,
    "tags": []
   },
   "outputs": [
    {
     "data": {
      "text/html": [
       "<style>#sk-container-id-92 {color: black;background-color: white;}#sk-container-id-92 pre{padding: 0;}#sk-container-id-92 div.sk-toggleable {background-color: white;}#sk-container-id-92 label.sk-toggleable__label {cursor: pointer;display: block;width: 100%;margin-bottom: 0;padding: 0.3em;box-sizing: border-box;text-align: center;}#sk-container-id-92 label.sk-toggleable__label-arrow:before {content: \"▸\";float: left;margin-right: 0.25em;color: #696969;}#sk-container-id-92 label.sk-toggleable__label-arrow:hover:before {color: black;}#sk-container-id-92 div.sk-estimator:hover label.sk-toggleable__label-arrow:before {color: black;}#sk-container-id-92 div.sk-toggleable__content {max-height: 0;max-width: 0;overflow: hidden;text-align: left;background-color: #f0f8ff;}#sk-container-id-92 div.sk-toggleable__content pre {margin: 0.2em;color: black;border-radius: 0.25em;background-color: #f0f8ff;}#sk-container-id-92 input.sk-toggleable__control:checked~div.sk-toggleable__content {max-height: 200px;max-width: 100%;overflow: auto;}#sk-container-id-92 input.sk-toggleable__control:checked~label.sk-toggleable__label-arrow:before {content: \"▾\";}#sk-container-id-92 div.sk-estimator input.sk-toggleable__control:checked~label.sk-toggleable__label {background-color: #d4ebff;}#sk-container-id-92 div.sk-label input.sk-toggleable__control:checked~label.sk-toggleable__label {background-color: #d4ebff;}#sk-container-id-92 input.sk-hidden--visually {border: 0;clip: rect(1px 1px 1px 1px);clip: rect(1px, 1px, 1px, 1px);height: 1px;margin: -1px;overflow: hidden;padding: 0;position: absolute;width: 1px;}#sk-container-id-92 div.sk-estimator {font-family: monospace;background-color: #f0f8ff;border: 1px dotted black;border-radius: 0.25em;box-sizing: border-box;margin-bottom: 0.5em;}#sk-container-id-92 div.sk-estimator:hover {background-color: #d4ebff;}#sk-container-id-92 div.sk-parallel-item::after {content: \"\";width: 100%;border-bottom: 1px solid gray;flex-grow: 1;}#sk-container-id-92 div.sk-label:hover label.sk-toggleable__label {background-color: #d4ebff;}#sk-container-id-92 div.sk-serial::before {content: \"\";position: absolute;border-left: 1px solid gray;box-sizing: border-box;top: 0;bottom: 0;left: 50%;z-index: 0;}#sk-container-id-92 div.sk-serial {display: flex;flex-direction: column;align-items: center;background-color: white;padding-right: 0.2em;padding-left: 0.2em;position: relative;}#sk-container-id-92 div.sk-item {position: relative;z-index: 1;}#sk-container-id-92 div.sk-parallel {display: flex;align-items: stretch;justify-content: center;background-color: white;position: relative;}#sk-container-id-92 div.sk-item::before, #sk-container-id-92 div.sk-parallel-item::before {content: \"\";position: absolute;border-left: 1px solid gray;box-sizing: border-box;top: 0;bottom: 0;left: 50%;z-index: -1;}#sk-container-id-92 div.sk-parallel-item {display: flex;flex-direction: column;z-index: 1;position: relative;background-color: white;}#sk-container-id-92 div.sk-parallel-item:first-child::after {align-self: flex-end;width: 50%;}#sk-container-id-92 div.sk-parallel-item:last-child::after {align-self: flex-start;width: 50%;}#sk-container-id-92 div.sk-parallel-item:only-child::after {width: 0;}#sk-container-id-92 div.sk-dashed-wrapped {border: 1px dashed gray;margin: 0 0.4em 0.5em 0.4em;box-sizing: border-box;padding-bottom: 0.4em;background-color: white;}#sk-container-id-92 div.sk-label label {font-family: monospace;font-weight: bold;display: inline-block;line-height: 1.2em;}#sk-container-id-92 div.sk-label-container {text-align: center;}#sk-container-id-92 div.sk-container {/* jupyter's `normalize.less` sets `[hidden] { display: none; }` but bootstrap.min.css set `[hidden] { display: none !important; }` so we also need the `!important` here to be able to override the default hidden behavior on the sphinx rendered scikit-learn.org. See: https://github.com/scikit-learn/scikit-learn/issues/21755 */display: inline-block !important;position: relative;}#sk-container-id-92 div.sk-text-repr-fallback {display: none;}</style><div id=\"sk-container-id-92\" class=\"sk-top-container\"><div class=\"sk-text-repr-fallback\"><pre>GridSearchCV(estimator=Pipeline(steps=[(&#x27;tvec&#x27;, TfidfVectorizer()),\n",
       "                                       (&#x27;rf&#x27;, RandomForestClassifier())]),\n",
       "             n_jobs=-1,\n",
       "             param_grid={&#x27;rf__max_depth&#x27;: [7, 8, 9],\n",
       "                         &#x27;rf__min_samples_leaf&#x27;: [1],\n",
       "                         &#x27;rf__n_estimators&#x27;: [50, 100, 150],\n",
       "                         &#x27;rf__random_state&#x27;: [42],\n",
       "                         &#x27;tvec__max_df&#x27;: [0.3, 0.4, 0.5],\n",
       "                         &#x27;tvec__max_features&#x27;: [50, 100, 150],\n",
       "                         &#x27;tvec__min_df&#x27;: [0.01],\n",
       "                         &#x27;tvec__ngram_range&#x27;: [(1, 1), (1, 2)],\n",
       "                         &#x27;tvec__stop_words&#x27;: [None,\n",
       "                                              [&#x27;i&#x27;, &#x27;me&#x27;, &#x27;my&#x27;, &#x27;myself&#x27;, &#x27;we&#x27;,\n",
       "                                               &#x27;our&#x27;, &#x27;ours&#x27;, &#x27;ourselves&#x27;,\n",
       "                                               &#x27;you&#x27;, &quot;you&#x27;re&quot;, &quot;you&#x27;ve&quot;,\n",
       "                                               &quot;you&#x27;ll&quot;, &quot;you&#x27;d&quot;, &#x27;your&#x27;,\n",
       "                                               &#x27;yours&#x27;, &#x27;yourself&#x27;,\n",
       "                                               &#x27;yourselves&#x27;, &#x27;he&#x27;, &#x27;him&#x27;, &#x27;his&#x27;,\n",
       "                                               &#x27;himself&#x27;, &#x27;she&#x27;, &quot;she&#x27;s&quot;, &#x27;her&#x27;,\n",
       "                                               &#x27;hers&#x27;, &#x27;herself&#x27;, &#x27;it&#x27;, &quot;it&#x27;s&quot;,\n",
       "                                               &#x27;its&#x27;, &#x27;itself&#x27;, ...],\n",
       "                                              &#x27;english&#x27;]})</pre><b>In a Jupyter environment, please rerun this cell to show the HTML representation or trust the notebook. <br />On GitHub, the HTML representation is unable to render, please try loading this page with nbviewer.org.</b></div><div class=\"sk-container\" hidden><div class=\"sk-item sk-dashed-wrapped\"><div class=\"sk-label-container\"><div class=\"sk-label sk-toggleable\"><input class=\"sk-toggleable__control sk-hidden--visually\" id=\"sk-estimator-id-446\" type=\"checkbox\" ><label for=\"sk-estimator-id-446\" class=\"sk-toggleable__label sk-toggleable__label-arrow\">GridSearchCV</label><div class=\"sk-toggleable__content\"><pre>GridSearchCV(estimator=Pipeline(steps=[(&#x27;tvec&#x27;, TfidfVectorizer()),\n",
       "                                       (&#x27;rf&#x27;, RandomForestClassifier())]),\n",
       "             n_jobs=-1,\n",
       "             param_grid={&#x27;rf__max_depth&#x27;: [7, 8, 9],\n",
       "                         &#x27;rf__min_samples_leaf&#x27;: [1],\n",
       "                         &#x27;rf__n_estimators&#x27;: [50, 100, 150],\n",
       "                         &#x27;rf__random_state&#x27;: [42],\n",
       "                         &#x27;tvec__max_df&#x27;: [0.3, 0.4, 0.5],\n",
       "                         &#x27;tvec__max_features&#x27;: [50, 100, 150],\n",
       "                         &#x27;tvec__min_df&#x27;: [0.01],\n",
       "                         &#x27;tvec__ngram_range&#x27;: [(1, 1), (1, 2)],\n",
       "                         &#x27;tvec__stop_words&#x27;: [None,\n",
       "                                              [&#x27;i&#x27;, &#x27;me&#x27;, &#x27;my&#x27;, &#x27;myself&#x27;, &#x27;we&#x27;,\n",
       "                                               &#x27;our&#x27;, &#x27;ours&#x27;, &#x27;ourselves&#x27;,\n",
       "                                               &#x27;you&#x27;, &quot;you&#x27;re&quot;, &quot;you&#x27;ve&quot;,\n",
       "                                               &quot;you&#x27;ll&quot;, &quot;you&#x27;d&quot;, &#x27;your&#x27;,\n",
       "                                               &#x27;yours&#x27;, &#x27;yourself&#x27;,\n",
       "                                               &#x27;yourselves&#x27;, &#x27;he&#x27;, &#x27;him&#x27;, &#x27;his&#x27;,\n",
       "                                               &#x27;himself&#x27;, &#x27;she&#x27;, &quot;she&#x27;s&quot;, &#x27;her&#x27;,\n",
       "                                               &#x27;hers&#x27;, &#x27;herself&#x27;, &#x27;it&#x27;, &quot;it&#x27;s&quot;,\n",
       "                                               &#x27;its&#x27;, &#x27;itself&#x27;, ...],\n",
       "                                              &#x27;english&#x27;]})</pre></div></div></div><div class=\"sk-parallel\"><div class=\"sk-parallel-item\"><div class=\"sk-item\"><div class=\"sk-label-container\"><div class=\"sk-label sk-toggleable\"><input class=\"sk-toggleable__control sk-hidden--visually\" id=\"sk-estimator-id-447\" type=\"checkbox\" ><label for=\"sk-estimator-id-447\" class=\"sk-toggleable__label sk-toggleable__label-arrow\">estimator: Pipeline</label><div class=\"sk-toggleable__content\"><pre>Pipeline(steps=[(&#x27;tvec&#x27;, TfidfVectorizer()), (&#x27;rf&#x27;, RandomForestClassifier())])</pre></div></div></div><div class=\"sk-serial\"><div class=\"sk-item\"><div class=\"sk-serial\"><div class=\"sk-item\"><div class=\"sk-estimator sk-toggleable\"><input class=\"sk-toggleable__control sk-hidden--visually\" id=\"sk-estimator-id-448\" type=\"checkbox\" ><label for=\"sk-estimator-id-448\" class=\"sk-toggleable__label sk-toggleable__label-arrow\">TfidfVectorizer</label><div class=\"sk-toggleable__content\"><pre>TfidfVectorizer()</pre></div></div></div><div class=\"sk-item\"><div class=\"sk-estimator sk-toggleable\"><input class=\"sk-toggleable__control sk-hidden--visually\" id=\"sk-estimator-id-449\" type=\"checkbox\" ><label for=\"sk-estimator-id-449\" class=\"sk-toggleable__label sk-toggleable__label-arrow\">RandomForestClassifier</label><div class=\"sk-toggleable__content\"><pre>RandomForestClassifier()</pre></div></div></div></div></div></div></div></div></div></div></div></div>"
      ],
      "text/plain": [
       "GridSearchCV(estimator=Pipeline(steps=[('tvec', TfidfVectorizer()),\n",
       "                                       ('rf', RandomForestClassifier())]),\n",
       "             n_jobs=-1,\n",
       "             param_grid={'rf__max_depth': [7, 8, 9],\n",
       "                         'rf__min_samples_leaf': [1],\n",
       "                         'rf__n_estimators': [50, 100, 150],\n",
       "                         'rf__random_state': [42],\n",
       "                         'tvec__max_df': [0.3, 0.4, 0.5],\n",
       "                         'tvec__max_features': [50, 100, 150],\n",
       "                         'tvec__min_df': [0.01],\n",
       "                         'tvec__ngram_range': [(1, 1), (1, 2)],\n",
       "                         'tvec__stop_words': [None,\n",
       "                                              ['i', 'me', 'my', 'myself', 'we',\n",
       "                                               'our', 'ours', 'ourselves',\n",
       "                                               'you', \"you're\", \"you've\",\n",
       "                                               \"you'll\", \"you'd\", 'your',\n",
       "                                               'yours', 'yourself',\n",
       "                                               'yourselves', 'he', 'him', 'his',\n",
       "                                               'himself', 'she', \"she's\", 'her',\n",
       "                                               'hers', 'herself', 'it', \"it's\",\n",
       "                                               'its', 'itself', ...],\n",
       "                                              'english']})"
      ]
     },
     "execution_count": 755,
     "metadata": {},
     "output_type": "execute_result"
    }
   ],
   "source": [
    "rf_gs.fit(X_train, y_train)"
   ]
  },
  {
   "cell_type": "code",
   "execution_count": 756,
   "id": "bb81f2c8-cffd-4b86-973b-d5bdf2e376ad",
   "metadata": {},
   "outputs": [
    {
     "data": {
      "text/plain": [
       "0.613"
      ]
     },
     "execution_count": 756,
     "metadata": {},
     "output_type": "execute_result"
    }
   ],
   "source": [
    "rf_gs.score(X_test, y_test)"
   ]
  },
  {
   "cell_type": "code",
   "execution_count": 757,
   "id": "77dec93a-c0f9-4ff7-9f0a-b8ec9a90d8c2",
   "metadata": {},
   "outputs": [
    {
     "data": {
      "text/plain": [
       "0.6383333333333333"
      ]
     },
     "execution_count": 757,
     "metadata": {},
     "output_type": "execute_result"
    }
   ],
   "source": [
    "rf_gs.score(X_train, y_train)"
   ]
  },
  {
   "cell_type": "code",
   "execution_count": 758,
   "id": "bd174f15-7fd7-4666-9532-61b002b4431b",
   "metadata": {
    "tags": []
   },
   "outputs": [
    {
     "data": {
      "text/plain": [
       "{'rf__max_depth': 7,\n",
       " 'rf__min_samples_leaf': 1,\n",
       " 'rf__n_estimators': 100,\n",
       " 'rf__random_state': 42,\n",
       " 'tvec__max_df': 0.3,\n",
       " 'tvec__max_features': 100,\n",
       " 'tvec__min_df': 0.01,\n",
       " 'tvec__ngram_range': (1, 1),\n",
       " 'tvec__stop_words': 'english'}"
      ]
     },
     "execution_count": 758,
     "metadata": {},
     "output_type": "execute_result"
    }
   ],
   "source": [
    "rf_gs.best_params_"
   ]
  },
  {
   "cell_type": "markdown",
   "id": "a37bbe09-3560-4e93-8690-424b378eaa40",
   "metadata": {},
   "source": [
    "Logistic Regression"
   ]
  },
  {
   "cell_type": "code",
   "execution_count": 745,
   "id": "6163e731-add7-4c89-951a-9bcc1130612b",
   "metadata": {},
   "outputs": [],
   "source": [
    "lr_pipe = Pipeline([\n",
    "    ('cvec', CountVectorizer()),\n",
    "    ('ss',StandardScaler(with_mean=False)),\n",
    "    ('lr', LogisticRegression(penalty ='l2'))\n",
    "])"
   ]
  },
  {
   "cell_type": "code",
   "execution_count": 746,
   "id": "a1b57fc0-cbc0-4497-a784-9977756a7372",
   "metadata": {},
   "outputs": [],
   "source": [
    "lr_pipe_params = {\n",
    "    'lr__C':[.1],\n",
    "    'cvec__stop_words': [None, stopwords.words('english'), 'english'],\n",
    "    'cvec__max_features': [100, 150, 200],\n",
    "    'cvec__min_df': [.01],\n",
    "    'cvec__max_df': [.3, .4, .5],\n",
    "    'cvec__ngram_range': [(1,1),(1, 2), (1,3)]\n",
    "}"
   ]
  },
  {
   "cell_type": "code",
   "execution_count": 747,
   "id": "772fa09c-fc24-480a-8800-13858ce75c8d",
   "metadata": {},
   "outputs": [],
   "source": [
    "lr_gs = GridSearchCV(lr_pipe, param_grid = lr_pipe_params, n_jobs=-1)"
   ]
  },
  {
   "cell_type": "code",
   "execution_count": 748,
   "id": "efd2eaa3-5fab-436f-a35b-4e2f74525456",
   "metadata": {},
   "outputs": [
    {
     "data": {
      "text/html": [
       "<style>#sk-container-id-91 {color: black;background-color: white;}#sk-container-id-91 pre{padding: 0;}#sk-container-id-91 div.sk-toggleable {background-color: white;}#sk-container-id-91 label.sk-toggleable__label {cursor: pointer;display: block;width: 100%;margin-bottom: 0;padding: 0.3em;box-sizing: border-box;text-align: center;}#sk-container-id-91 label.sk-toggleable__label-arrow:before {content: \"▸\";float: left;margin-right: 0.25em;color: #696969;}#sk-container-id-91 label.sk-toggleable__label-arrow:hover:before {color: black;}#sk-container-id-91 div.sk-estimator:hover label.sk-toggleable__label-arrow:before {color: black;}#sk-container-id-91 div.sk-toggleable__content {max-height: 0;max-width: 0;overflow: hidden;text-align: left;background-color: #f0f8ff;}#sk-container-id-91 div.sk-toggleable__content pre {margin: 0.2em;color: black;border-radius: 0.25em;background-color: #f0f8ff;}#sk-container-id-91 input.sk-toggleable__control:checked~div.sk-toggleable__content {max-height: 200px;max-width: 100%;overflow: auto;}#sk-container-id-91 input.sk-toggleable__control:checked~label.sk-toggleable__label-arrow:before {content: \"▾\";}#sk-container-id-91 div.sk-estimator input.sk-toggleable__control:checked~label.sk-toggleable__label {background-color: #d4ebff;}#sk-container-id-91 div.sk-label input.sk-toggleable__control:checked~label.sk-toggleable__label {background-color: #d4ebff;}#sk-container-id-91 input.sk-hidden--visually {border: 0;clip: rect(1px 1px 1px 1px);clip: rect(1px, 1px, 1px, 1px);height: 1px;margin: -1px;overflow: hidden;padding: 0;position: absolute;width: 1px;}#sk-container-id-91 div.sk-estimator {font-family: monospace;background-color: #f0f8ff;border: 1px dotted black;border-radius: 0.25em;box-sizing: border-box;margin-bottom: 0.5em;}#sk-container-id-91 div.sk-estimator:hover {background-color: #d4ebff;}#sk-container-id-91 div.sk-parallel-item::after {content: \"\";width: 100%;border-bottom: 1px solid gray;flex-grow: 1;}#sk-container-id-91 div.sk-label:hover label.sk-toggleable__label {background-color: #d4ebff;}#sk-container-id-91 div.sk-serial::before {content: \"\";position: absolute;border-left: 1px solid gray;box-sizing: border-box;top: 0;bottom: 0;left: 50%;z-index: 0;}#sk-container-id-91 div.sk-serial {display: flex;flex-direction: column;align-items: center;background-color: white;padding-right: 0.2em;padding-left: 0.2em;position: relative;}#sk-container-id-91 div.sk-item {position: relative;z-index: 1;}#sk-container-id-91 div.sk-parallel {display: flex;align-items: stretch;justify-content: center;background-color: white;position: relative;}#sk-container-id-91 div.sk-item::before, #sk-container-id-91 div.sk-parallel-item::before {content: \"\";position: absolute;border-left: 1px solid gray;box-sizing: border-box;top: 0;bottom: 0;left: 50%;z-index: -1;}#sk-container-id-91 div.sk-parallel-item {display: flex;flex-direction: column;z-index: 1;position: relative;background-color: white;}#sk-container-id-91 div.sk-parallel-item:first-child::after {align-self: flex-end;width: 50%;}#sk-container-id-91 div.sk-parallel-item:last-child::after {align-self: flex-start;width: 50%;}#sk-container-id-91 div.sk-parallel-item:only-child::after {width: 0;}#sk-container-id-91 div.sk-dashed-wrapped {border: 1px dashed gray;margin: 0 0.4em 0.5em 0.4em;box-sizing: border-box;padding-bottom: 0.4em;background-color: white;}#sk-container-id-91 div.sk-label label {font-family: monospace;font-weight: bold;display: inline-block;line-height: 1.2em;}#sk-container-id-91 div.sk-label-container {text-align: center;}#sk-container-id-91 div.sk-container {/* jupyter's `normalize.less` sets `[hidden] { display: none; }` but bootstrap.min.css set `[hidden] { display: none !important; }` so we also need the `!important` here to be able to override the default hidden behavior on the sphinx rendered scikit-learn.org. See: https://github.com/scikit-learn/scikit-learn/issues/21755 */display: inline-block !important;position: relative;}#sk-container-id-91 div.sk-text-repr-fallback {display: none;}</style><div id=\"sk-container-id-91\" class=\"sk-top-container\"><div class=\"sk-text-repr-fallback\"><pre>GridSearchCV(estimator=Pipeline(steps=[(&#x27;cvec&#x27;, CountVectorizer()),\n",
       "                                       (&#x27;ss&#x27;, StandardScaler(with_mean=False)),\n",
       "                                       (&#x27;lr&#x27;, LogisticRegression())]),\n",
       "             n_jobs=-1,\n",
       "             param_grid={&#x27;cvec__max_df&#x27;: [0.3, 0.4, 0.5],\n",
       "                         &#x27;cvec__max_features&#x27;: [100, 150, 200],\n",
       "                         &#x27;cvec__min_df&#x27;: [0.01],\n",
       "                         &#x27;cvec__ngram_range&#x27;: [(1, 1), (1, 2), (1, 3)],\n",
       "                         &#x27;cvec__stop_words&#x27;: [None,\n",
       "                                              [&#x27;i&#x27;, &#x27;me&#x27;, &#x27;my&#x27;, &#x27;myself&#x27;, &#x27;we&#x27;,\n",
       "                                               &#x27;our&#x27;, &#x27;ours&#x27;, &#x27;ourselves&#x27;,\n",
       "                                               &#x27;you&#x27;, &quot;you&#x27;re&quot;, &quot;you&#x27;ve&quot;,\n",
       "                                               &quot;you&#x27;ll&quot;, &quot;you&#x27;d&quot;, &#x27;your&#x27;,\n",
       "                                               &#x27;yours&#x27;, &#x27;yourself&#x27;,\n",
       "                                               &#x27;yourselves&#x27;, &#x27;he&#x27;, &#x27;him&#x27;, &#x27;his&#x27;,\n",
       "                                               &#x27;himself&#x27;, &#x27;she&#x27;, &quot;she&#x27;s&quot;, &#x27;her&#x27;,\n",
       "                                               &#x27;hers&#x27;, &#x27;herself&#x27;, &#x27;it&#x27;, &quot;it&#x27;s&quot;,\n",
       "                                               &#x27;its&#x27;, &#x27;itself&#x27;, ...],\n",
       "                                              &#x27;english&#x27;],\n",
       "                         &#x27;lr__C&#x27;: [0.1]})</pre><b>In a Jupyter environment, please rerun this cell to show the HTML representation or trust the notebook. <br />On GitHub, the HTML representation is unable to render, please try loading this page with nbviewer.org.</b></div><div class=\"sk-container\" hidden><div class=\"sk-item sk-dashed-wrapped\"><div class=\"sk-label-container\"><div class=\"sk-label sk-toggleable\"><input class=\"sk-toggleable__control sk-hidden--visually\" id=\"sk-estimator-id-441\" type=\"checkbox\" ><label for=\"sk-estimator-id-441\" class=\"sk-toggleable__label sk-toggleable__label-arrow\">GridSearchCV</label><div class=\"sk-toggleable__content\"><pre>GridSearchCV(estimator=Pipeline(steps=[(&#x27;cvec&#x27;, CountVectorizer()),\n",
       "                                       (&#x27;ss&#x27;, StandardScaler(with_mean=False)),\n",
       "                                       (&#x27;lr&#x27;, LogisticRegression())]),\n",
       "             n_jobs=-1,\n",
       "             param_grid={&#x27;cvec__max_df&#x27;: [0.3, 0.4, 0.5],\n",
       "                         &#x27;cvec__max_features&#x27;: [100, 150, 200],\n",
       "                         &#x27;cvec__min_df&#x27;: [0.01],\n",
       "                         &#x27;cvec__ngram_range&#x27;: [(1, 1), (1, 2), (1, 3)],\n",
       "                         &#x27;cvec__stop_words&#x27;: [None,\n",
       "                                              [&#x27;i&#x27;, &#x27;me&#x27;, &#x27;my&#x27;, &#x27;myself&#x27;, &#x27;we&#x27;,\n",
       "                                               &#x27;our&#x27;, &#x27;ours&#x27;, &#x27;ourselves&#x27;,\n",
       "                                               &#x27;you&#x27;, &quot;you&#x27;re&quot;, &quot;you&#x27;ve&quot;,\n",
       "                                               &quot;you&#x27;ll&quot;, &quot;you&#x27;d&quot;, &#x27;your&#x27;,\n",
       "                                               &#x27;yours&#x27;, &#x27;yourself&#x27;,\n",
       "                                               &#x27;yourselves&#x27;, &#x27;he&#x27;, &#x27;him&#x27;, &#x27;his&#x27;,\n",
       "                                               &#x27;himself&#x27;, &#x27;she&#x27;, &quot;she&#x27;s&quot;, &#x27;her&#x27;,\n",
       "                                               &#x27;hers&#x27;, &#x27;herself&#x27;, &#x27;it&#x27;, &quot;it&#x27;s&quot;,\n",
       "                                               &#x27;its&#x27;, &#x27;itself&#x27;, ...],\n",
       "                                              &#x27;english&#x27;],\n",
       "                         &#x27;lr__C&#x27;: [0.1]})</pre></div></div></div><div class=\"sk-parallel\"><div class=\"sk-parallel-item\"><div class=\"sk-item\"><div class=\"sk-label-container\"><div class=\"sk-label sk-toggleable\"><input class=\"sk-toggleable__control sk-hidden--visually\" id=\"sk-estimator-id-442\" type=\"checkbox\" ><label for=\"sk-estimator-id-442\" class=\"sk-toggleable__label sk-toggleable__label-arrow\">estimator: Pipeline</label><div class=\"sk-toggleable__content\"><pre>Pipeline(steps=[(&#x27;cvec&#x27;, CountVectorizer()),\n",
       "                (&#x27;ss&#x27;, StandardScaler(with_mean=False)),\n",
       "                (&#x27;lr&#x27;, LogisticRegression())])</pre></div></div></div><div class=\"sk-serial\"><div class=\"sk-item\"><div class=\"sk-serial\"><div class=\"sk-item\"><div class=\"sk-estimator sk-toggleable\"><input class=\"sk-toggleable__control sk-hidden--visually\" id=\"sk-estimator-id-443\" type=\"checkbox\" ><label for=\"sk-estimator-id-443\" class=\"sk-toggleable__label sk-toggleable__label-arrow\">CountVectorizer</label><div class=\"sk-toggleable__content\"><pre>CountVectorizer()</pre></div></div></div><div class=\"sk-item\"><div class=\"sk-estimator sk-toggleable\"><input class=\"sk-toggleable__control sk-hidden--visually\" id=\"sk-estimator-id-444\" type=\"checkbox\" ><label for=\"sk-estimator-id-444\" class=\"sk-toggleable__label sk-toggleable__label-arrow\">StandardScaler</label><div class=\"sk-toggleable__content\"><pre>StandardScaler(with_mean=False)</pre></div></div></div><div class=\"sk-item\"><div class=\"sk-estimator sk-toggleable\"><input class=\"sk-toggleable__control sk-hidden--visually\" id=\"sk-estimator-id-445\" type=\"checkbox\" ><label for=\"sk-estimator-id-445\" class=\"sk-toggleable__label sk-toggleable__label-arrow\">LogisticRegression</label><div class=\"sk-toggleable__content\"><pre>LogisticRegression()</pre></div></div></div></div></div></div></div></div></div></div></div></div>"
      ],
      "text/plain": [
       "GridSearchCV(estimator=Pipeline(steps=[('cvec', CountVectorizer()),\n",
       "                                       ('ss', StandardScaler(with_mean=False)),\n",
       "                                       ('lr', LogisticRegression())]),\n",
       "             n_jobs=-1,\n",
       "             param_grid={'cvec__max_df': [0.3, 0.4, 0.5],\n",
       "                         'cvec__max_features': [100, 150, 200],\n",
       "                         'cvec__min_df': [0.01],\n",
       "                         'cvec__ngram_range': [(1, 1), (1, 2), (1, 3)],\n",
       "                         'cvec__stop_words': [None,\n",
       "                                              ['i', 'me', 'my', 'myself', 'we',\n",
       "                                               'our', 'ours', 'ourselves',\n",
       "                                               'you', \"you're\", \"you've\",\n",
       "                                               \"you'll\", \"you'd\", 'your',\n",
       "                                               'yours', 'yourself',\n",
       "                                               'yourselves', 'he', 'him', 'his',\n",
       "                                               'himself', 'she', \"she's\", 'her',\n",
       "                                               'hers', 'herself', 'it', \"it's\",\n",
       "                                               'its', 'itself', ...],\n",
       "                                              'english'],\n",
       "                         'lr__C': [0.1]})"
      ]
     },
     "execution_count": 748,
     "metadata": {},
     "output_type": "execute_result"
    }
   ],
   "source": [
    "lr_gs.fit(X_train, y_train)"
   ]
  },
  {
   "cell_type": "code",
   "execution_count": 749,
   "id": "75b9ba22-b64f-4ebd-b218-8a345055422a",
   "metadata": {},
   "outputs": [
    {
     "data": {
      "text/plain": [
       "0.613"
      ]
     },
     "execution_count": 749,
     "metadata": {},
     "output_type": "execute_result"
    }
   ],
   "source": [
    "lr_gs.score(X_test, y_test)"
   ]
  },
  {
   "cell_type": "code",
   "execution_count": 750,
   "id": "540f4b56-a501-4e1c-bfe2-785ee84a3d8b",
   "metadata": {},
   "outputs": [
    {
     "data": {
      "text/plain": [
       "0.6416666666666667"
      ]
     },
     "execution_count": 750,
     "metadata": {},
     "output_type": "execute_result"
    }
   ],
   "source": [
    "lr_gs.score(X_train, y_train)"
   ]
  },
  {
   "cell_type": "code",
   "execution_count": 751,
   "id": "e15ad25a-d260-45cb-bc6d-61295929458d",
   "metadata": {
    "scrolled": true,
    "tags": []
   },
   "outputs": [
    {
     "data": {
      "text/plain": [
       "{'cvec__max_df': 0.3,\n",
       " 'cvec__max_features': 100,\n",
       " 'cvec__min_df': 0.01,\n",
       " 'cvec__ngram_range': (1, 2),\n",
       " 'cvec__stop_words': 'english',\n",
       " 'lr__C': 0.1}"
      ]
     },
     "execution_count": 751,
     "metadata": {},
     "output_type": "execute_result"
    }
   ],
   "source": [
    "lr_gs.best_params_"
   ]
  },
  {
   "cell_type": "markdown",
   "id": "ed6617bb-4b23-4db6-b273-2688d0f3128d",
   "metadata": {},
   "source": [
    "ADABoost"
   ]
  },
  {
   "cell_type": "code",
   "execution_count": 821,
   "id": "dbdbdebe-0490-46ca-b41a-1d000c86bb86",
   "metadata": {},
   "outputs": [],
   "source": [
    "boost_pipe = Pipeline([\n",
    "    ('tvec', TfidfVectorizer()),\n",
    "    ('boost', AdaBoostClassifier())\n",
    "])"
   ]
  },
  {
   "cell_type": "code",
   "execution_count": 334,
   "id": "7bee0e76-cc5a-44a2-b30e-a805f02c85e2",
   "metadata": {},
   "outputs": [],
   "source": [
    "# # Logistic Regression - .612 test, .666 train\n",
    "# boost_pipe_params = {\n",
    "#     'boost__n_estimators': [30,40],\n",
    "#     'boost__base_estimator':[LogisticRegression()],\n",
    "#     'tvec__stop_words': ['english'],\n",
    "#     'tvec__max_features': [150],\n",
    "#     'tvec__min_df': [0],\n",
    "#     'tvec__max_df': [.7],\n",
    "#     'tvec__ngram_range': [(1, 2)]\n",
    "# }"
   ]
  },
  {
   "cell_type": "code",
   "execution_count": 361,
   "id": "147d3f9f-d1ec-4759-9997-3301e35b07ed",
   "metadata": {},
   "outputs": [],
   "source": [
    "# # Naive Bayes.64 test, .86 train\n",
    "# boost_pipe_params = {\n",
    "#     'boost__n_estimators': [20, 30],\n",
    "#     'boost__base_estimator':[MultinomialNB()],\n",
    "#     'tvec__stop_words': [None, 'english'],\n",
    "#     'tvec__max_features': [4000, 5000],\n",
    "#     'tvec__min_df': [0],\n",
    "#     'tvec__max_df': [.3, .4, .5],\n",
    "#     'tvec__ngram_range': [(1,1), (1, 2)]\n",
    "# }"
   ]
  },
  {
   "cell_type": "code",
   "execution_count": 822,
   "id": "f118313c-6418-4635-8003-c10b9bc32e59",
   "metadata": {},
   "outputs": [],
   "source": [
    "# Random Forrest .62 test, .87 train \n",
    "boost_pipe_params = {\n",
    "    'boost__n_estimators': [30,40],\n",
    "    'boost__base_estimator':[RandomForestClassifier(max_depth=8, min_samples_leaf=1, n_estimators=200)],\n",
    "    'tvec__stop_words': ['english'],\n",
    "    'tvec__max_features': [200],\n",
    "    'tvec__min_df': [0],\n",
    "    'tvec__max_df': [.5, .6],\n",
    "    'tvec__ngram_range': [(1, 1)]\n",
    "}"
   ]
  },
  {
   "cell_type": "code",
   "execution_count": 823,
   "id": "dd0a51b6-2d4d-426c-a3ff-15d613019ba6",
   "metadata": {},
   "outputs": [],
   "source": [
    "boost_gs = GridSearchCV(boost_pipe, param_grid = boost_pipe_params, n_jobs=-1)"
   ]
  },
  {
   "cell_type": "code",
   "execution_count": 824,
   "id": "7b3eae91-128d-4cd5-9701-90a0c36beafa",
   "metadata": {},
   "outputs": [
    {
     "data": {
      "text/html": [
       "<style>#sk-container-id-108 {color: black;background-color: white;}#sk-container-id-108 pre{padding: 0;}#sk-container-id-108 div.sk-toggleable {background-color: white;}#sk-container-id-108 label.sk-toggleable__label {cursor: pointer;display: block;width: 100%;margin-bottom: 0;padding: 0.3em;box-sizing: border-box;text-align: center;}#sk-container-id-108 label.sk-toggleable__label-arrow:before {content: \"▸\";float: left;margin-right: 0.25em;color: #696969;}#sk-container-id-108 label.sk-toggleable__label-arrow:hover:before {color: black;}#sk-container-id-108 div.sk-estimator:hover label.sk-toggleable__label-arrow:before {color: black;}#sk-container-id-108 div.sk-toggleable__content {max-height: 0;max-width: 0;overflow: hidden;text-align: left;background-color: #f0f8ff;}#sk-container-id-108 div.sk-toggleable__content pre {margin: 0.2em;color: black;border-radius: 0.25em;background-color: #f0f8ff;}#sk-container-id-108 input.sk-toggleable__control:checked~div.sk-toggleable__content {max-height: 200px;max-width: 100%;overflow: auto;}#sk-container-id-108 input.sk-toggleable__control:checked~label.sk-toggleable__label-arrow:before {content: \"▾\";}#sk-container-id-108 div.sk-estimator input.sk-toggleable__control:checked~label.sk-toggleable__label {background-color: #d4ebff;}#sk-container-id-108 div.sk-label input.sk-toggleable__control:checked~label.sk-toggleable__label {background-color: #d4ebff;}#sk-container-id-108 input.sk-hidden--visually {border: 0;clip: rect(1px 1px 1px 1px);clip: rect(1px, 1px, 1px, 1px);height: 1px;margin: -1px;overflow: hidden;padding: 0;position: absolute;width: 1px;}#sk-container-id-108 div.sk-estimator {font-family: monospace;background-color: #f0f8ff;border: 1px dotted black;border-radius: 0.25em;box-sizing: border-box;margin-bottom: 0.5em;}#sk-container-id-108 div.sk-estimator:hover {background-color: #d4ebff;}#sk-container-id-108 div.sk-parallel-item::after {content: \"\";width: 100%;border-bottom: 1px solid gray;flex-grow: 1;}#sk-container-id-108 div.sk-label:hover label.sk-toggleable__label {background-color: #d4ebff;}#sk-container-id-108 div.sk-serial::before {content: \"\";position: absolute;border-left: 1px solid gray;box-sizing: border-box;top: 0;bottom: 0;left: 50%;z-index: 0;}#sk-container-id-108 div.sk-serial {display: flex;flex-direction: column;align-items: center;background-color: white;padding-right: 0.2em;padding-left: 0.2em;position: relative;}#sk-container-id-108 div.sk-item {position: relative;z-index: 1;}#sk-container-id-108 div.sk-parallel {display: flex;align-items: stretch;justify-content: center;background-color: white;position: relative;}#sk-container-id-108 div.sk-item::before, #sk-container-id-108 div.sk-parallel-item::before {content: \"\";position: absolute;border-left: 1px solid gray;box-sizing: border-box;top: 0;bottom: 0;left: 50%;z-index: -1;}#sk-container-id-108 div.sk-parallel-item {display: flex;flex-direction: column;z-index: 1;position: relative;background-color: white;}#sk-container-id-108 div.sk-parallel-item:first-child::after {align-self: flex-end;width: 50%;}#sk-container-id-108 div.sk-parallel-item:last-child::after {align-self: flex-start;width: 50%;}#sk-container-id-108 div.sk-parallel-item:only-child::after {width: 0;}#sk-container-id-108 div.sk-dashed-wrapped {border: 1px dashed gray;margin: 0 0.4em 0.5em 0.4em;box-sizing: border-box;padding-bottom: 0.4em;background-color: white;}#sk-container-id-108 div.sk-label label {font-family: monospace;font-weight: bold;display: inline-block;line-height: 1.2em;}#sk-container-id-108 div.sk-label-container {text-align: center;}#sk-container-id-108 div.sk-container {/* jupyter's `normalize.less` sets `[hidden] { display: none; }` but bootstrap.min.css set `[hidden] { display: none !important; }` so we also need the `!important` here to be able to override the default hidden behavior on the sphinx rendered scikit-learn.org. See: https://github.com/scikit-learn/scikit-learn/issues/21755 */display: inline-block !important;position: relative;}#sk-container-id-108 div.sk-text-repr-fallback {display: none;}</style><div id=\"sk-container-id-108\" class=\"sk-top-container\"><div class=\"sk-text-repr-fallback\"><pre>GridSearchCV(estimator=Pipeline(steps=[(&#x27;tvec&#x27;, TfidfVectorizer()),\n",
       "                                       (&#x27;boost&#x27;, AdaBoostClassifier())]),\n",
       "             n_jobs=-1,\n",
       "             param_grid={&#x27;boost__base_estimator&#x27;: [RandomForestClassifier(max_depth=8,\n",
       "                                                                          n_estimators=200)],\n",
       "                         &#x27;boost__n_estimators&#x27;: [30, 40],\n",
       "                         &#x27;tvec__max_df&#x27;: [0.5, 0.6],\n",
       "                         &#x27;tvec__max_features&#x27;: [200], &#x27;tvec__min_df&#x27;: [0],\n",
       "                         &#x27;tvec__ngram_range&#x27;: [(1, 1)],\n",
       "                         &#x27;tvec__stop_words&#x27;: [&#x27;english&#x27;]})</pre><b>In a Jupyter environment, please rerun this cell to show the HTML representation or trust the notebook. <br />On GitHub, the HTML representation is unable to render, please try loading this page with nbviewer.org.</b></div><div class=\"sk-container\" hidden><div class=\"sk-item sk-dashed-wrapped\"><div class=\"sk-label-container\"><div class=\"sk-label sk-toggleable\"><input class=\"sk-toggleable__control sk-hidden--visually\" id=\"sk-estimator-id-589\" type=\"checkbox\" ><label for=\"sk-estimator-id-589\" class=\"sk-toggleable__label sk-toggleable__label-arrow\">GridSearchCV</label><div class=\"sk-toggleable__content\"><pre>GridSearchCV(estimator=Pipeline(steps=[(&#x27;tvec&#x27;, TfidfVectorizer()),\n",
       "                                       (&#x27;boost&#x27;, AdaBoostClassifier())]),\n",
       "             n_jobs=-1,\n",
       "             param_grid={&#x27;boost__base_estimator&#x27;: [RandomForestClassifier(max_depth=8,\n",
       "                                                                          n_estimators=200)],\n",
       "                         &#x27;boost__n_estimators&#x27;: [30, 40],\n",
       "                         &#x27;tvec__max_df&#x27;: [0.5, 0.6],\n",
       "                         &#x27;tvec__max_features&#x27;: [200], &#x27;tvec__min_df&#x27;: [0],\n",
       "                         &#x27;tvec__ngram_range&#x27;: [(1, 1)],\n",
       "                         &#x27;tvec__stop_words&#x27;: [&#x27;english&#x27;]})</pre></div></div></div><div class=\"sk-parallel\"><div class=\"sk-parallel-item\"><div class=\"sk-item\"><div class=\"sk-label-container\"><div class=\"sk-label sk-toggleable\"><input class=\"sk-toggleable__control sk-hidden--visually\" id=\"sk-estimator-id-590\" type=\"checkbox\" ><label for=\"sk-estimator-id-590\" class=\"sk-toggleable__label sk-toggleable__label-arrow\">estimator: Pipeline</label><div class=\"sk-toggleable__content\"><pre>Pipeline(steps=[(&#x27;tvec&#x27;, TfidfVectorizer()), (&#x27;boost&#x27;, AdaBoostClassifier())])</pre></div></div></div><div class=\"sk-serial\"><div class=\"sk-item\"><div class=\"sk-serial\"><div class=\"sk-item\"><div class=\"sk-estimator sk-toggleable\"><input class=\"sk-toggleable__control sk-hidden--visually\" id=\"sk-estimator-id-591\" type=\"checkbox\" ><label for=\"sk-estimator-id-591\" class=\"sk-toggleable__label sk-toggleable__label-arrow\">TfidfVectorizer</label><div class=\"sk-toggleable__content\"><pre>TfidfVectorizer()</pre></div></div></div><div class=\"sk-item\"><div class=\"sk-estimator sk-toggleable\"><input class=\"sk-toggleable__control sk-hidden--visually\" id=\"sk-estimator-id-592\" type=\"checkbox\" ><label for=\"sk-estimator-id-592\" class=\"sk-toggleable__label sk-toggleable__label-arrow\">AdaBoostClassifier</label><div class=\"sk-toggleable__content\"><pre>AdaBoostClassifier()</pre></div></div></div></div></div></div></div></div></div></div></div></div>"
      ],
      "text/plain": [
       "GridSearchCV(estimator=Pipeline(steps=[('tvec', TfidfVectorizer()),\n",
       "                                       ('boost', AdaBoostClassifier())]),\n",
       "             n_jobs=-1,\n",
       "             param_grid={'boost__base_estimator': [RandomForestClassifier(max_depth=8,\n",
       "                                                                          n_estimators=200)],\n",
       "                         'boost__n_estimators': [30, 40],\n",
       "                         'tvec__max_df': [0.5, 0.6],\n",
       "                         'tvec__max_features': [200], 'tvec__min_df': [0],\n",
       "                         'tvec__ngram_range': [(1, 1)],\n",
       "                         'tvec__stop_words': ['english']})"
      ]
     },
     "execution_count": 824,
     "metadata": {},
     "output_type": "execute_result"
    }
   ],
   "source": [
    "boost_gs.fit(X_train, y_train)"
   ]
  },
  {
   "cell_type": "code",
   "execution_count": 825,
   "id": "59ee4736-e2f7-4723-aa5b-6d4fbd0d545a",
   "metadata": {},
   "outputs": [
    {
     "data": {
      "text/plain": [
       "0.621"
      ]
     },
     "execution_count": 825,
     "metadata": {},
     "output_type": "execute_result"
    }
   ],
   "source": [
    "boost_gs.score(X_test, y_test)"
   ]
  },
  {
   "cell_type": "code",
   "execution_count": 826,
   "id": "a22e574e-8e74-457c-94f7-fb2dfc3b6762",
   "metadata": {},
   "outputs": [
    {
     "data": {
      "text/plain": [
       "0.8243333333333334"
      ]
     },
     "execution_count": 826,
     "metadata": {},
     "output_type": "execute_result"
    }
   ],
   "source": [
    "boost_gs.score(X_train, y_train)"
   ]
  },
  {
   "cell_type": "code",
   "execution_count": 827,
   "id": "33f57a69-16cb-44c1-abf8-ee14ac453801",
   "metadata": {},
   "outputs": [
    {
     "data": {
      "text/plain": [
       "{'boost__base_estimator': RandomForestClassifier(max_depth=8, n_estimators=200),\n",
       " 'boost__n_estimators': 30,\n",
       " 'tvec__max_df': 0.6,\n",
       " 'tvec__max_features': 200,\n",
       " 'tvec__min_df': 0,\n",
       " 'tvec__ngram_range': (1, 1),\n",
       " 'tvec__stop_words': 'english'}"
      ]
     },
     "execution_count": 827,
     "metadata": {},
     "output_type": "execute_result"
    }
   ],
   "source": [
    "boost_gs.best_params_"
   ]
  },
  {
   "cell_type": "code",
   "execution_count": 817,
   "id": "a0871304-71f6-4aa2-90b5-656f932379cf",
   "metadata": {},
   "outputs": [],
   "source": [
    "level1_estimators = [\n",
    "    ('nb', nb_gs.best_estimator_),\n",
    "    ('rf', rf_gs.best_estimator_),\n",
    "    ('lr', lr_gs.best_estimator_)\n",
    "]\n",
    "\n",
    "stacked_model = StackingClassifier(estimators=level1_estimators,\n",
    "                                 final_estimator = LogisticRegression())"
   ]
  },
  {
   "cell_type": "code",
   "execution_count": 818,
   "id": "5fee1bb0-6d1a-4abf-96f7-a540dd5b9eb1",
   "metadata": {
    "scrolled": true,
    "tags": []
   },
   "outputs": [
    {
     "data": {
      "text/html": [
       "<style>#sk-container-id-107 {color: black;background-color: white;}#sk-container-id-107 pre{padding: 0;}#sk-container-id-107 div.sk-toggleable {background-color: white;}#sk-container-id-107 label.sk-toggleable__label {cursor: pointer;display: block;width: 100%;margin-bottom: 0;padding: 0.3em;box-sizing: border-box;text-align: center;}#sk-container-id-107 label.sk-toggleable__label-arrow:before {content: \"▸\";float: left;margin-right: 0.25em;color: #696969;}#sk-container-id-107 label.sk-toggleable__label-arrow:hover:before {color: black;}#sk-container-id-107 div.sk-estimator:hover label.sk-toggleable__label-arrow:before {color: black;}#sk-container-id-107 div.sk-toggleable__content {max-height: 0;max-width: 0;overflow: hidden;text-align: left;background-color: #f0f8ff;}#sk-container-id-107 div.sk-toggleable__content pre {margin: 0.2em;color: black;border-radius: 0.25em;background-color: #f0f8ff;}#sk-container-id-107 input.sk-toggleable__control:checked~div.sk-toggleable__content {max-height: 200px;max-width: 100%;overflow: auto;}#sk-container-id-107 input.sk-toggleable__control:checked~label.sk-toggleable__label-arrow:before {content: \"▾\";}#sk-container-id-107 div.sk-estimator input.sk-toggleable__control:checked~label.sk-toggleable__label {background-color: #d4ebff;}#sk-container-id-107 div.sk-label input.sk-toggleable__control:checked~label.sk-toggleable__label {background-color: #d4ebff;}#sk-container-id-107 input.sk-hidden--visually {border: 0;clip: rect(1px 1px 1px 1px);clip: rect(1px, 1px, 1px, 1px);height: 1px;margin: -1px;overflow: hidden;padding: 0;position: absolute;width: 1px;}#sk-container-id-107 div.sk-estimator {font-family: monospace;background-color: #f0f8ff;border: 1px dotted black;border-radius: 0.25em;box-sizing: border-box;margin-bottom: 0.5em;}#sk-container-id-107 div.sk-estimator:hover {background-color: #d4ebff;}#sk-container-id-107 div.sk-parallel-item::after {content: \"\";width: 100%;border-bottom: 1px solid gray;flex-grow: 1;}#sk-container-id-107 div.sk-label:hover label.sk-toggleable__label {background-color: #d4ebff;}#sk-container-id-107 div.sk-serial::before {content: \"\";position: absolute;border-left: 1px solid gray;box-sizing: border-box;top: 0;bottom: 0;left: 50%;z-index: 0;}#sk-container-id-107 div.sk-serial {display: flex;flex-direction: column;align-items: center;background-color: white;padding-right: 0.2em;padding-left: 0.2em;position: relative;}#sk-container-id-107 div.sk-item {position: relative;z-index: 1;}#sk-container-id-107 div.sk-parallel {display: flex;align-items: stretch;justify-content: center;background-color: white;position: relative;}#sk-container-id-107 div.sk-item::before, #sk-container-id-107 div.sk-parallel-item::before {content: \"\";position: absolute;border-left: 1px solid gray;box-sizing: border-box;top: 0;bottom: 0;left: 50%;z-index: -1;}#sk-container-id-107 div.sk-parallel-item {display: flex;flex-direction: column;z-index: 1;position: relative;background-color: white;}#sk-container-id-107 div.sk-parallel-item:first-child::after {align-self: flex-end;width: 50%;}#sk-container-id-107 div.sk-parallel-item:last-child::after {align-self: flex-start;width: 50%;}#sk-container-id-107 div.sk-parallel-item:only-child::after {width: 0;}#sk-container-id-107 div.sk-dashed-wrapped {border: 1px dashed gray;margin: 0 0.4em 0.5em 0.4em;box-sizing: border-box;padding-bottom: 0.4em;background-color: white;}#sk-container-id-107 div.sk-label label {font-family: monospace;font-weight: bold;display: inline-block;line-height: 1.2em;}#sk-container-id-107 div.sk-label-container {text-align: center;}#sk-container-id-107 div.sk-container {/* jupyter's `normalize.less` sets `[hidden] { display: none; }` but bootstrap.min.css set `[hidden] { display: none !important; }` so we also need the `!important` here to be able to override the default hidden behavior on the sphinx rendered scikit-learn.org. See: https://github.com/scikit-learn/scikit-learn/issues/21755 */display: inline-block !important;position: relative;}#sk-container-id-107 div.sk-text-repr-fallback {display: none;}</style><div id=\"sk-container-id-107\" class=\"sk-top-container\"><div class=\"sk-text-repr-fallback\"><pre>StackingClassifier(estimators=[(&#x27;nb&#x27;,\n",
       "                                Pipeline(steps=[(&#x27;tvec&#x27;,\n",
       "                                                 TfidfVectorizer(max_df=0.3,\n",
       "                                                                 min_df=0,\n",
       "                                                                 ngram_range=(1,\n",
       "                                                                              2),\n",
       "                                                                 stop_words=&#x27;english&#x27;)),\n",
       "                                                (&#x27;nb&#x27;,\n",
       "                                                 MultinomialNB(alpha=2))])),\n",
       "                               (&#x27;rf&#x27;,\n",
       "                                Pipeline(steps=[(&#x27;tvec&#x27;,\n",
       "                                                 TfidfVectorizer(max_df=0.3,\n",
       "                                                                 max_features=100,\n",
       "                                                                 min_df=0.01,\n",
       "                                                                 stop_words=&#x27;english&#x27;)),\n",
       "                                                (&#x27;rf&#x27;,\n",
       "                                                 RandomForestClassifier(max_depth=7,\n",
       "                                                                        random_state=42))])),\n",
       "                               (&#x27;lr&#x27;,\n",
       "                                Pipeline(steps=[(&#x27;cvec&#x27;,\n",
       "                                                 CountVectorizer(max_df=0.3,\n",
       "                                                                 max_features=100,\n",
       "                                                                 min_df=0.01,\n",
       "                                                                 ngram_range=(1,\n",
       "                                                                              2),\n",
       "                                                                 stop_words=&#x27;english&#x27;)),\n",
       "                                                (&#x27;ss&#x27;,\n",
       "                                                 StandardScaler(with_mean=False)),\n",
       "                                                (&#x27;lr&#x27;,\n",
       "                                                 LogisticRegression(C=0.1))]))],\n",
       "                   final_estimator=LogisticRegression())</pre><b>In a Jupyter environment, please rerun this cell to show the HTML representation or trust the notebook. <br />On GitHub, the HTML representation is unable to render, please try loading this page with nbviewer.org.</b></div><div class=\"sk-container\" hidden><div class=\"sk-item sk-dashed-wrapped\"><div class=\"sk-label-container\"><div class=\"sk-label sk-toggleable\"><input class=\"sk-toggleable__control sk-hidden--visually\" id=\"sk-estimator-id-580\" type=\"checkbox\" ><label for=\"sk-estimator-id-580\" class=\"sk-toggleable__label sk-toggleable__label-arrow\">StackingClassifier</label><div class=\"sk-toggleable__content\"><pre>StackingClassifier(estimators=[(&#x27;nb&#x27;,\n",
       "                                Pipeline(steps=[(&#x27;tvec&#x27;,\n",
       "                                                 TfidfVectorizer(max_df=0.3,\n",
       "                                                                 min_df=0,\n",
       "                                                                 ngram_range=(1,\n",
       "                                                                              2),\n",
       "                                                                 stop_words=&#x27;english&#x27;)),\n",
       "                                                (&#x27;nb&#x27;,\n",
       "                                                 MultinomialNB(alpha=2))])),\n",
       "                               (&#x27;rf&#x27;,\n",
       "                                Pipeline(steps=[(&#x27;tvec&#x27;,\n",
       "                                                 TfidfVectorizer(max_df=0.3,\n",
       "                                                                 max_features=100,\n",
       "                                                                 min_df=0.01,\n",
       "                                                                 stop_words=&#x27;english&#x27;)),\n",
       "                                                (&#x27;rf&#x27;,\n",
       "                                                 RandomForestClassifier(max_depth=7,\n",
       "                                                                        random_state=42))])),\n",
       "                               (&#x27;lr&#x27;,\n",
       "                                Pipeline(steps=[(&#x27;cvec&#x27;,\n",
       "                                                 CountVectorizer(max_df=0.3,\n",
       "                                                                 max_features=100,\n",
       "                                                                 min_df=0.01,\n",
       "                                                                 ngram_range=(1,\n",
       "                                                                              2),\n",
       "                                                                 stop_words=&#x27;english&#x27;)),\n",
       "                                                (&#x27;ss&#x27;,\n",
       "                                                 StandardScaler(with_mean=False)),\n",
       "                                                (&#x27;lr&#x27;,\n",
       "                                                 LogisticRegression(C=0.1))]))],\n",
       "                   final_estimator=LogisticRegression())</pre></div></div></div><div class=\"sk-serial\"><div class=\"sk-item\"><div class=\"sk-parallel\"><div class=\"sk-parallel-item\"><div class=\"sk-item\"><div class=\"sk-label-container\"><div class=\"sk-label sk-toggleable\"><label>nb</label></div></div><div class=\"sk-serial\"><div class=\"sk-item\"><div class=\"sk-serial\"><div class=\"sk-item\"><div class=\"sk-estimator sk-toggleable\"><input class=\"sk-toggleable__control sk-hidden--visually\" id=\"sk-estimator-id-581\" type=\"checkbox\" ><label for=\"sk-estimator-id-581\" class=\"sk-toggleable__label sk-toggleable__label-arrow\">TfidfVectorizer</label><div class=\"sk-toggleable__content\"><pre>TfidfVectorizer(max_df=0.3, min_df=0, ngram_range=(1, 2), stop_words=&#x27;english&#x27;)</pre></div></div></div><div class=\"sk-item\"><div class=\"sk-estimator sk-toggleable\"><input class=\"sk-toggleable__control sk-hidden--visually\" id=\"sk-estimator-id-582\" type=\"checkbox\" ><label for=\"sk-estimator-id-582\" class=\"sk-toggleable__label sk-toggleable__label-arrow\">MultinomialNB</label><div class=\"sk-toggleable__content\"><pre>MultinomialNB(alpha=2)</pre></div></div></div></div></div></div></div></div><div class=\"sk-parallel-item\"><div class=\"sk-item\"><div class=\"sk-label-container\"><div class=\"sk-label sk-toggleable\"><label>rf</label></div></div><div class=\"sk-serial\"><div class=\"sk-item\"><div class=\"sk-serial\"><div class=\"sk-item\"><div class=\"sk-estimator sk-toggleable\"><input class=\"sk-toggleable__control sk-hidden--visually\" id=\"sk-estimator-id-583\" type=\"checkbox\" ><label for=\"sk-estimator-id-583\" class=\"sk-toggleable__label sk-toggleable__label-arrow\">TfidfVectorizer</label><div class=\"sk-toggleable__content\"><pre>TfidfVectorizer(max_df=0.3, max_features=100, min_df=0.01, stop_words=&#x27;english&#x27;)</pre></div></div></div><div class=\"sk-item\"><div class=\"sk-estimator sk-toggleable\"><input class=\"sk-toggleable__control sk-hidden--visually\" id=\"sk-estimator-id-584\" type=\"checkbox\" ><label for=\"sk-estimator-id-584\" class=\"sk-toggleable__label sk-toggleable__label-arrow\">RandomForestClassifier</label><div class=\"sk-toggleable__content\"><pre>RandomForestClassifier(max_depth=7, random_state=42)</pre></div></div></div></div></div></div></div></div><div class=\"sk-parallel-item\"><div class=\"sk-item\"><div class=\"sk-label-container\"><div class=\"sk-label sk-toggleable\"><label>lr</label></div></div><div class=\"sk-serial\"><div class=\"sk-item\"><div class=\"sk-serial\"><div class=\"sk-item\"><div class=\"sk-estimator sk-toggleable\"><input class=\"sk-toggleable__control sk-hidden--visually\" id=\"sk-estimator-id-585\" type=\"checkbox\" ><label for=\"sk-estimator-id-585\" class=\"sk-toggleable__label sk-toggleable__label-arrow\">CountVectorizer</label><div class=\"sk-toggleable__content\"><pre>CountVectorizer(max_df=0.3, max_features=100, min_df=0.01, ngram_range=(1, 2),\n",
       "                stop_words=&#x27;english&#x27;)</pre></div></div></div><div class=\"sk-item\"><div class=\"sk-estimator sk-toggleable\"><input class=\"sk-toggleable__control sk-hidden--visually\" id=\"sk-estimator-id-586\" type=\"checkbox\" ><label for=\"sk-estimator-id-586\" class=\"sk-toggleable__label sk-toggleable__label-arrow\">StandardScaler</label><div class=\"sk-toggleable__content\"><pre>StandardScaler(with_mean=False)</pre></div></div></div><div class=\"sk-item\"><div class=\"sk-estimator sk-toggleable\"><input class=\"sk-toggleable__control sk-hidden--visually\" id=\"sk-estimator-id-587\" type=\"checkbox\" ><label for=\"sk-estimator-id-587\" class=\"sk-toggleable__label sk-toggleable__label-arrow\">LogisticRegression</label><div class=\"sk-toggleable__content\"><pre>LogisticRegression(C=0.1)</pre></div></div></div></div></div></div></div></div></div></div><div class=\"sk-item\"><div class=\"sk-parallel\"><div class=\"sk-parallel-item\"><div class=\"sk-item\"><div class=\"sk-label-container\"><div class=\"sk-label sk-toggleable\"><label>final_estimator</label></div></div><div class=\"sk-serial\"><div class=\"sk-item\"><div class=\"sk-estimator sk-toggleable\"><input class=\"sk-toggleable__control sk-hidden--visually\" id=\"sk-estimator-id-588\" type=\"checkbox\" ><label for=\"sk-estimator-id-588\" class=\"sk-toggleable__label sk-toggleable__label-arrow\">LogisticRegression</label><div class=\"sk-toggleable__content\"><pre>LogisticRegression()</pre></div></div></div></div></div></div></div></div></div></div></div></div>"
      ],
      "text/plain": [
       "StackingClassifier(estimators=[('nb',\n",
       "                                Pipeline(steps=[('tvec',\n",
       "                                                 TfidfVectorizer(max_df=0.3,\n",
       "                                                                 min_df=0,\n",
       "                                                                 ngram_range=(1,\n",
       "                                                                              2),\n",
       "                                                                 stop_words='english')),\n",
       "                                                ('nb',\n",
       "                                                 MultinomialNB(alpha=2))])),\n",
       "                               ('rf',\n",
       "                                Pipeline(steps=[('tvec',\n",
       "                                                 TfidfVectorizer(max_df=0.3,\n",
       "                                                                 max_features=100,\n",
       "                                                                 min_df=0.01,\n",
       "                                                                 stop_words='english')),\n",
       "                                                ('rf',\n",
       "                                                 RandomForestClassifier(max_depth=7,\n",
       "                                                                        random_state=42))])),\n",
       "                               ('lr',\n",
       "                                Pipeline(steps=[('cvec',\n",
       "                                                 CountVectorizer(max_df=0.3,\n",
       "                                                                 max_features=100,\n",
       "                                                                 min_df=0.01,\n",
       "                                                                 ngram_range=(1,\n",
       "                                                                              2),\n",
       "                                                                 stop_words='english')),\n",
       "                                                ('ss',\n",
       "                                                 StandardScaler(with_mean=False)),\n",
       "                                                ('lr',\n",
       "                                                 LogisticRegression(C=0.1))]))],\n",
       "                   final_estimator=LogisticRegression())"
      ]
     },
     "execution_count": 818,
     "metadata": {},
     "output_type": "execute_result"
    }
   ],
   "source": [
    "stacked_model.fit(X_train, y_train)"
   ]
  },
  {
   "cell_type": "code",
   "execution_count": 819,
   "id": "ec4a747d-8d73-4e93-96d8-32899566131d",
   "metadata": {},
   "outputs": [
    {
     "data": {
      "text/plain": [
       "0.659"
      ]
     },
     "execution_count": 819,
     "metadata": {},
     "output_type": "execute_result"
    }
   ],
   "source": [
    "stacked_model.score(X_test, y_test)"
   ]
  },
  {
   "cell_type": "code",
   "execution_count": 820,
   "id": "705af833-9a3d-42ef-a403-e05eab5736de",
   "metadata": {},
   "outputs": [
    {
     "data": {
      "text/plain": [
       "0.933"
      ]
     },
     "execution_count": 820,
     "metadata": {},
     "output_type": "execute_result"
    }
   ],
   "source": [
    "\n",
    "stacked_model.score(X_train, y_train)"
   ]
  },
  {
   "cell_type": "code",
   "execution_count": 772,
   "id": "829173fb-1aa6-42c1-ad36-58d33a50f12f",
   "metadata": {},
   "outputs": [
    {
     "data": {
      "text/plain": [
       "0.6343333333333334"
      ]
     },
     "execution_count": 772,
     "metadata": {},
     "output_type": "execute_result"
    }
   ],
   "source": [
    "cross_val_score(stacked_model, X_train, y_train).mean()"
   ]
  },
  {
   "cell_type": "markdown",
   "id": "41a303b2-ff2d-4817-9164-92d564ef07df",
   "metadata": {},
   "source": [
    "## Score Analysis"
   ]
  },
  {
   "cell_type": "markdown",
   "id": "251a573b-8c5f-4436-b70c-5e4a81324f95",
   "metadata": {},
   "source": [
    " - Naive Bayes was the highest performing model."
   ]
  },
  {
   "cell_type": "code",
   "execution_count": 37,
   "id": "5d0a879a-9286-4808-8eff-ef3ce8fdeeb3",
   "metadata": {},
   "outputs": [
    {
     "data": {
      "text/plain": [
       "0.689"
      ]
     },
     "execution_count": 37,
     "metadata": {},
     "output_type": "execute_result"
    }
   ],
   "source": [
    "nb_gs.score(X_test, y_test)"
   ]
  },
  {
   "cell_type": "code",
   "execution_count": 28,
   "id": "81ed9445-85ff-4875-a607-6962e3a74676",
   "metadata": {},
   "outputs": [],
   "source": [
    "preds = nb_gs.predict(X_test)"
   ]
  },
  {
   "cell_type": "code",
   "execution_count": 29,
   "id": "07f6e704-e40f-41af-b479-ff4697fd8b0f",
   "metadata": {},
   "outputs": [],
   "source": [
    "cm = confusion_matrix(y_test, preds, labels= nb_gs.classes_)"
   ]
  },
  {
   "cell_type": "code",
   "execution_count": 152,
   "id": "6ca2b098-3ec5-4389-b3e9-1b23d822bc1f",
   "metadata": {},
   "outputs": [
    {
     "data": {
      "image/png": "[encoded data removed]",
      "text/plain": [
       "<Figure size 640x480 with 2 Axes>"
      ]
     },
     "metadata": {},
     "output_type": "display_data"
    }
   ],
   "source": [
    "disp = ConfusionMatrixDisplay(confusion_matrix=cm, \n",
    "                             display_labels=nb_gs.classes_,\n",
    "                             );\n",
    "\n",
    "disp.plot();\n",
    "\n",
    "plt.savefig('./images/confusion_matrix.png')"
   ]
  },
  {
   "cell_type": "code",
   "execution_count": 42,
   "id": "f2bd6b8b-98a5-4c82-ba92-634856dbdd95",
   "metadata": {},
   "outputs": [
    {
     "name": "stdout",
     "output_type": "stream",
     "text": [
      "Model accuracy is: 0.689\n",
      "Model precision is: 0.68\n",
      "Model recall is: 0.714\n"
     ]
    }
   ],
   "source": [
    "print('Model accuracy is:', accuracy_score(y_test, preds))\n",
    "print('Model precision is:', precision_score(y_test, preds, pos_label='republican'))\n",
    "print('Model recall is:', recall_score(y_test, preds, pos_label='republican'))"
   ]
  },
  {
   "cell_type": "markdown",
   "id": "678548ce-4993-4a80-b782-c713869c7ac5",
   "metadata": {},
   "source": [
    "Misclassification Analysis"
   ]
  },
  {
   "cell_type": "code",
   "execution_count": 35,
   "id": "c66a5bdf-9baf-4a9e-b824-2e842a9ea10b",
   "metadata": {},
   "outputs": [
    {
     "data": {
      "text/plain": [
       "republican    500\n",
       "democrats     500\n",
       "Name: subreddit, dtype: int64"
      ]
     },
     "execution_count": 35,
     "metadata": {},
     "output_type": "execute_result"
    }
   ],
   "source": [
    "y_test.value_counts()"
   ]
  },
  {
   "cell_type": "code",
   "execution_count": 46,
   "id": "d1743160-8e66-4a0e-b393-bb6d606d1bc2",
   "metadata": {},
   "outputs": [],
   "source": [
    "misclass = pd.concat([y_test.reset_index(), pd.DataFrame(preds).reset_index(), X_test.reset_index()], axis=1)"
   ]
  },
  {
   "cell_type": "code",
   "execution_count": 48,
   "id": "fec92470-cc39-43d6-93bf-dc8082aa282c",
   "metadata": {},
   "outputs": [],
   "source": [
    "mclass = misclass[misclass['subreddit'] != misclass[0]]"
   ]
  },
  {
   "cell_type": "code",
   "execution_count": 50,
   "id": "34ec6954-a6d2-46db-806d-a621c71c72e6",
   "metadata": {},
   "outputs": [],
   "source": [
    "pd.set_option('display.max_colwidth', None)"
   ]
  },
  {
   "cell_type": "code",
   "execution_count": null,
   "id": "a07e611b-91b5-4f75-8a59-588559e760d7",
   "metadata": {},
   "outputs": [],
   "source": [
    "TfidfVectorizer()"
   ]
  },
  {
   "cell_type": "markdown",
   "id": "0538bd35-d395-4085-ac35-de37bde5357d",
   "metadata": {},
   "source": [
    "For Future Analysis"
   ]
  },
  {
   "cell_type": "code",
   "execution_count": 79,
   "id": "a19eff52-845a-4834-94d9-805ade2d8e04",
   "metadata": {},
   "outputs": [
    {
     "data": {
      "text/html": [
       "<div>\n",
       "<style scoped>\n",
       "    .dataframe tbody tr th:only-of-type {\n",
       "        vertical-align: middle;\n",
       "    }\n",
       "\n",
       "    .dataframe tbody tr th {\n",
       "        vertical-align: top;\n",
       "    }\n",
       "\n",
       "    .dataframe thead th {\n",
       "        text-align: right;\n",
       "    }\n",
       "</style>\n",
       "<table border=\"1\" class=\"dataframe\">\n",
       "  <thead>\n",
       "    <tr style=\"text-align: right;\">\n",
       "      <th></th>\n",
       "      <th>index</th>\n",
       "      <th>0</th>\n",
       "      <th>1</th>\n",
       "    </tr>\n",
       "  </thead>\n",
       "  <tbody>\n",
       "    <tr>\n",
       "      <th>22390</th>\n",
       "      <td>22390</td>\n",
       "      <td>-7.720221</td>\n",
       "      <td>trump</td>\n",
       "    </tr>\n",
       "    <tr>\n",
       "      <th>6057</th>\n",
       "      <td>6057</td>\n",
       "      <td>-7.879407</td>\n",
       "      <td>democrats</td>\n",
       "    </tr>\n",
       "    <tr>\n",
       "      <th>10637</th>\n",
       "      <td>10637</td>\n",
       "      <td>-8.133824</td>\n",
       "      <td>house</td>\n",
       "    </tr>\n",
       "    <tr>\n",
       "      <th>18339</th>\n",
       "      <td>18339</td>\n",
       "      <td>-8.219185</td>\n",
       "      <td>republicans</td>\n",
       "    </tr>\n",
       "    <tr>\n",
       "      <th>2450</th>\n",
       "      <td>2450</td>\n",
       "      <td>-8.255222</td>\n",
       "      <td>biden</td>\n",
       "    </tr>\n",
       "    <tr>\n",
       "      <th>20486</th>\n",
       "      <td>20486</td>\n",
       "      <td>-8.385974</td>\n",
       "      <td>speaker</td>\n",
       "    </tr>\n",
       "    <tr>\n",
       "      <th>9496</th>\n",
       "      <td>9496</td>\n",
       "      <td>-8.459839</td>\n",
       "      <td>gop</td>\n",
       "    </tr>\n",
       "    <tr>\n",
       "      <th>15746</th>\n",
       "      <td>15746</td>\n",
       "      <td>-8.468311</td>\n",
       "      <td>party</td>\n",
       "    </tr>\n",
       "    <tr>\n",
       "      <th>19725</th>\n",
       "      <td>19725</td>\n",
       "      <td>-8.477809</td>\n",
       "      <td>senate</td>\n",
       "    </tr>\n",
       "    <tr>\n",
       "      <th>18261</th>\n",
       "      <td>18261</td>\n",
       "      <td>-8.531257</td>\n",
       "      <td>republican</td>\n",
       "    </tr>\n",
       "  </tbody>\n",
       "</table>\n",
       "</div>"
      ],
      "text/plain": [
       "       index         0            1\n",
       "22390  22390 -7.720221        trump\n",
       "6057    6057 -7.879407    democrats\n",
       "10637  10637 -8.133824        house\n",
       "18339  18339 -8.219185  republicans\n",
       "2450    2450 -8.255222        biden\n",
       "20486  20486 -8.385974      speaker\n",
       "9496    9496 -8.459839          gop\n",
       "15746  15746 -8.468311        party\n",
       "19725  19725 -8.477809       senate\n",
       "18261  18261 -8.531257   republican"
      ]
     },
     "execution_count": 79,
     "metadata": {},
     "output_type": "execute_result"
    }
   ],
   "source": [
    "pd.DataFrame(list(zip(nb_gs.best_estimator_.named_steps['nb'].feature_log_prob_[0], nb_gs.best_estimator_.named_steps['tvec'].get_feature_names_out()))).reset_index().sort_values(ascending= False, by=0).head(10)"
   ]
  },
  {
   "cell_type": "markdown",
   "id": "c39f0308-1c17-4280-a297-39eb13f809c2",
   "metadata": {},
   "source": [
    "Missclassification Diagram"
   ]
  },
  {
   "cell_type": "code",
   "execution_count": 154,
   "id": "c7d05abd-6c78-4d22-84de-c74049f622f5",
   "metadata": {},
   "outputs": [
    {
     "data": {
      "text/html": [
       "<div>\n",
       "<style scoped>\n",
       "    .dataframe tbody tr th:only-of-type {\n",
       "        vertical-align: middle;\n",
       "    }\n",
       "\n",
       "    .dataframe tbody tr th {\n",
       "        vertical-align: top;\n",
       "    }\n",
       "\n",
       "    .dataframe thead th {\n",
       "        text-align: right;\n",
       "    }\n",
       "</style>\n",
       "<table border=\"1\" class=\"dataframe\">\n",
       "  <thead>\n",
       "    <tr style=\"text-align: right;\">\n",
       "      <th></th>\n",
       "      <th>index</th>\n",
       "      <th>subreddit</th>\n",
       "      <th>index</th>\n",
       "      <th>0</th>\n",
       "      <th>index</th>\n",
       "      <th>title</th>\n",
       "    </tr>\n",
       "  </thead>\n",
       "  <tbody>\n",
       "    <tr>\n",
       "      <th>1</th>\n",
       "      <td>164</td>\n",
       "      <td>republican</td>\n",
       "      <td>1</td>\n",
       "      <td>democrats</td>\n",
       "      <td>164</td>\n",
       "      <td>Rep Lauren Boebert gets into Heated Arguments with MSNBC &amp;amp; Sean Hannity on Fox News over the Speaker of the House voting</td>\n",
       "    </tr>\n",
       "    <tr>\n",
       "      <th>5</th>\n",
       "      <td>2200</td>\n",
       "      <td>democrats</td>\n",
       "      <td>5</td>\n",
       "      <td>republican</td>\n",
       "      <td>2200</td>\n",
       "      <td>Republicans Are Back on Their Bullshit—and It’s Already Returning to Bite Them</td>\n",
       "    </tr>\n",
       "    <tr>\n",
       "      <th>6</th>\n",
       "      <td>1990</td>\n",
       "      <td>republican</td>\n",
       "      <td>6</td>\n",
       "      <td>democrats</td>\n",
       "      <td>1990</td>\n",
       "      <td>Former, Disgraced, Twice-Impeached, One-Term Republican President announces another losing run for US Presidency</td>\n",
       "    </tr>\n",
       "    <tr>\n",
       "      <th>8</th>\n",
       "      <td>1919</td>\n",
       "      <td>republican</td>\n",
       "      <td>8</td>\n",
       "      <td>democrats</td>\n",
       "      <td>1919</td>\n",
       "      <td>The Unpopular Cure for Our Electoral Woes -- Our first president, George Washington, provided a warning of the eventual power political parties could attain.</td>\n",
       "    </tr>\n",
       "    <tr>\n",
       "      <th>10</th>\n",
       "      <td>1286</td>\n",
       "      <td>republican</td>\n",
       "      <td>10</td>\n",
       "      <td>democrats</td>\n",
       "      <td>1286</td>\n",
       "      <td>Test</td>\n",
       "    </tr>\n",
       "    <tr>\n",
       "      <th>14</th>\n",
       "      <td>2489</td>\n",
       "      <td>democrats</td>\n",
       "      <td>14</td>\n",
       "      <td>republican</td>\n",
       "      <td>2489</td>\n",
       "      <td>Trump records DISGUSTING and DANGEROUS VIDEO THREATENING America</td>\n",
       "    </tr>\n",
       "    <tr>\n",
       "      <th>17</th>\n",
       "      <td>3577</td>\n",
       "      <td>democrats</td>\n",
       "      <td>17</td>\n",
       "      <td>republican</td>\n",
       "      <td>3577</td>\n",
       "      <td>Manhattan DA zeroes in on Stormy Daniels hush money in Trump case: Report</td>\n",
       "    </tr>\n",
       "    <tr>\n",
       "      <th>24</th>\n",
       "      <td>1584</td>\n",
       "      <td>republican</td>\n",
       "      <td>24</td>\n",
       "      <td>democrats</td>\n",
       "      <td>1584</td>\n",
       "      <td>I love our democracy.</td>\n",
       "    </tr>\n",
       "    <tr>\n",
       "      <th>25</th>\n",
       "      <td>2406</td>\n",
       "      <td>democrats</td>\n",
       "      <td>25</td>\n",
       "      <td>republican</td>\n",
       "      <td>2406</td>\n",
       "      <td>Jamal stole my fried chicken and my watermelon</td>\n",
       "    </tr>\n",
       "    <tr>\n",
       "      <th>32</th>\n",
       "      <td>2550</td>\n",
       "      <td>democrats</td>\n",
       "      <td>32</td>\n",
       "      <td>republican</td>\n",
       "      <td>2550</td>\n",
       "      <td>28 Republicans Who Call Gay People 'Groomers' Just Voted Against a Bill Addressing Child Sex Abuse</td>\n",
       "    </tr>\n",
       "    <tr>\n",
       "      <th>33</th>\n",
       "      <td>1007</td>\n",
       "      <td>republican</td>\n",
       "      <td>33</td>\n",
       "      <td>democrats</td>\n",
       "      <td>1007</td>\n",
       "      <td>Brunson v Adams: The case that could drain the swamp? Supreme Court will decide to hear the case on January 6</td>\n",
       "    </tr>\n",
       "    <tr>\n",
       "      <th>34</th>\n",
       "      <td>1082</td>\n",
       "      <td>republican</td>\n",
       "      <td>34</td>\n",
       "      <td>democrats</td>\n",
       "      <td>1082</td>\n",
       "      <td>Put this on r/democrats 😂 I’ll be waiting along time for them to say 1 good thing about joe Biden</td>\n",
       "    </tr>\n",
       "    <tr>\n",
       "      <th>39</th>\n",
       "      <td>3122</td>\n",
       "      <td>democrats</td>\n",
       "      <td>39</td>\n",
       "      <td>republican</td>\n",
       "      <td>3122</td>\n",
       "      <td>Will Democratic Lawmakers Really Leave Elon Musk’s Twitter?</td>\n",
       "    </tr>\n",
       "    <tr>\n",
       "      <th>41</th>\n",
       "      <td>1035</td>\n",
       "      <td>republican</td>\n",
       "      <td>41</td>\n",
       "      <td>democrats</td>\n",
       "      <td>1035</td>\n",
       "      <td>Get a room you two.</td>\n",
       "    </tr>\n",
       "    <tr>\n",
       "      <th>44</th>\n",
       "      <td>3851</td>\n",
       "      <td>democrats</td>\n",
       "      <td>44</td>\n",
       "      <td>republican</td>\n",
       "      <td>3851</td>\n",
       "      <td>A little late but how embarrassing to be called out by maricopa county like that</td>\n",
       "    </tr>\n",
       "    <tr>\n",
       "      <th>45</th>\n",
       "      <td>2385</td>\n",
       "      <td>democrats</td>\n",
       "      <td>45</td>\n",
       "      <td>republican</td>\n",
       "      <td>2385</td>\n",
       "      <td>2022 in Review | The White House</td>\n",
       "    </tr>\n",
       "    <tr>\n",
       "      <th>52</th>\n",
       "      <td>575</td>\n",
       "      <td>republican</td>\n",
       "      <td>52</td>\n",
       "      <td>democrats</td>\n",
       "      <td>575</td>\n",
       "      <td>ultra-rare Trump nft! nothing to see here!</td>\n",
       "    </tr>\n",
       "    <tr>\n",
       "      <th>55</th>\n",
       "      <td>302</td>\n",
       "      <td>republican</td>\n",
       "      <td>55</td>\n",
       "      <td>democrats</td>\n",
       "      <td>302</td>\n",
       "      <td>Hello! I am an AP US Gov student who had to create a poll for a project. It would help me greatly if you all could quickly fill out my poll. It should only take about 30 seconds at most. Thank you!</td>\n",
       "    </tr>\n",
       "    <tr>\n",
       "      <th>59</th>\n",
       "      <td>3748</td>\n",
       "      <td>democrats</td>\n",
       "      <td>59</td>\n",
       "      <td>republican</td>\n",
       "      <td>3748</td>\n",
       "      <td>Please; give the American people a strong candidate for 2024. Can Obama run again? I seem to recall FDR got to have 4 terms?</td>\n",
       "    </tr>\n",
       "    <tr>\n",
       "      <th>60</th>\n",
       "      <td>3951</td>\n",
       "      <td>democrats</td>\n",
       "      <td>60</td>\n",
       "      <td>republican</td>\n",
       "      <td>3951</td>\n",
       "      <td>Gov. Abbott's drubbing of Beto O'Rourke dashes Dem hopes of flipping Texas blue</td>\n",
       "    </tr>\n",
       "  </tbody>\n",
       "</table>\n",
       "</div>"
      ],
      "text/plain": [
       "    index   subreddit  index           0  index  \\\n",
       "1     164  republican      1   democrats    164   \n",
       "5    2200   democrats      5  republican   2200   \n",
       "6    1990  republican      6   democrats   1990   \n",
       "8    1919  republican      8   democrats   1919   \n",
       "10   1286  republican     10   democrats   1286   \n",
       "14   2489   democrats     14  republican   2489   \n",
       "17   3577   democrats     17  republican   3577   \n",
       "24   1584  republican     24   democrats   1584   \n",
       "25   2406   democrats     25  republican   2406   \n",
       "32   2550   democrats     32  republican   2550   \n",
       "33   1007  republican     33   democrats   1007   \n",
       "34   1082  republican     34   democrats   1082   \n",
       "39   3122   democrats     39  republican   3122   \n",
       "41   1035  republican     41   democrats   1035   \n",
       "44   3851   democrats     44  republican   3851   \n",
       "45   2385   democrats     45  republican   2385   \n",
       "52    575  republican     52   democrats    575   \n",
       "55    302  republican     55   democrats    302   \n",
       "59   3748   democrats     59  republican   3748   \n",
       "60   3951   democrats     60  republican   3951   \n",
       "\n",
       "                                                                                                                                                                                                    title  \n",
       "1                                                                            Rep Lauren Boebert gets into Heated Arguments with MSNBC &amp; Sean Hannity on Fox News over the Speaker of the House voting  \n",
       "5                                                                                                                          Republicans Are Back on Their Bullshit—and It’s Already Returning to Bite Them  \n",
       "6                                                                                        Former, Disgraced, Twice-Impeached, One-Term Republican President announces another losing run for US Presidency  \n",
       "8                                           The Unpopular Cure for Our Electoral Woes -- Our first president, George Washington, provided a warning of the eventual power political parties could attain.  \n",
       "10                                                                                                                                                                                                   Test  \n",
       "14                                                                                                                                       Trump records DISGUSTING and DANGEROUS VIDEO THREATENING America  \n",
       "17                                                                                                                              Manhattan DA zeroes in on Stormy Daniels hush money in Trump case: Report  \n",
       "24                                                                                                                                                                                  I love our democracy.  \n",
       "25                                                                                                                                                         Jamal stole my fried chicken and my watermelon  \n",
       "32                                                                                                     28 Republicans Who Call Gay People 'Groomers' Just Voted Against a Bill Addressing Child Sex Abuse  \n",
       "33                                                                                          Brunson v Adams: The case that could drain the swamp? Supreme Court will decide to hear the case on January 6  \n",
       "34                                                                                                      Put this on r/democrats 😂 I’ll be waiting along time for them to say 1 good thing about joe Biden  \n",
       "39                                                                                                                                            Will Democratic Lawmakers Really Leave Elon Musk’s Twitter?  \n",
       "41                                                                                                                                                                                    Get a room you two.  \n",
       "44                                                                                                                       A little late but how embarrassing to be called out by maricopa county like that  \n",
       "45                                                                                                                                                                       2022 in Review | The White House  \n",
       "52                                                                                                                                                             ultra-rare Trump nft! nothing to see here!  \n",
       "55  Hello! I am an AP US Gov student who had to create a poll for a project. It would help me greatly if you all could quickly fill out my poll. It should only take about 30 seconds at most. Thank you!  \n",
       "59                                                                           Please; give the American people a strong candidate for 2024. Can Obama run again? I seem to recall FDR got to have 4 terms?  \n",
       "60                                                                                                                        Gov. Abbott's drubbing of Beto O'Rourke dashes Dem hopes of flipping Texas blue  "
      ]
     },
     "execution_count": 154,
     "metadata": {},
     "output_type": "execute_result"
    }
   ],
   "source": [
    "mclass.head(20)"
   ]
  },
  {
   "cell_type": "code",
   "execution_count": null,
   "id": "554aed43-17e7-4f7c-b1b9-53a616b0e6b9",
   "metadata": {},
   "outputs": [],
   "source": []
  }
 ],
 "metadata": {
  "kernelspec": {
   "display_name": "Python 3 (ipykernel)",
   "language": "python",
   "name": "python3"
  },
  "language_info": {
   "codemirror_mode": {
    "name": "ipython",
    "version": 3
   },
   "file_extension": ".py",
   "mimetype": "text/x-python",
   "name": "python",
   "nbconvert_exporter": "python",
   "pygments_lexer": "ipython3",
   "version": "3.9.13"
  }
 },
 "nbformat": 4,
 "nbformat_minor": 5
}
